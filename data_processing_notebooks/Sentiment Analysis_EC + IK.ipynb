{
 "cells": [
  {
   "cell_type": "code",
   "execution_count": 1,
   "metadata": {},
   "outputs": [],
   "source": [
    "import numpy as np\n",
    "import pandas as pd\n",
    "import matplotlib.pyplot as plt\n",
    "import re\n",
    "import seaborn as sns\n",
    "from wordcloud import WordCloud, STOPWORDS"
   ]
  },
  {
   "cell_type": "code",
   "execution_count": 2,
   "metadata": {
    "scrolled": true
   },
   "outputs": [
    {
     "data": {
      "text/plain": [
       "0        2020-09-30 20:40:23\n",
       "1        2020-10-24 15:05:24\n",
       "2        2020-09-30 20:58:51\n",
       "3        2020-09-30 20:15:12\n",
       "4        2020-09-30 23:30:41\n",
       "                ...         \n",
       "14481    2020-07-01 02:55:38\n",
       "14482    2020-07-01 02:33:46\n",
       "14483    2020-07-01 03:15:58\n",
       "14484    2020-07-01 02:43:33\n",
       "14485    2020-07-01 04:13:01\n",
       "Name: Tweet_time, Length: 14486, dtype: object"
      ]
     },
     "execution_count": 2,
     "metadata": {},
     "output_type": "execute_result"
    }
   ],
   "source": [
    "# Import the dataset\n",
    "tweet = pd.read_csv(\"volvo701-1001.csv\")\n",
    "tweet=tweet.replace(' ', np.nan)\n",
    "tweet['Tweet_time']"
   ]
  },
  {
   "cell_type": "code",
   "execution_count": 3,
   "metadata": {
    "scrolled": false
   },
   "outputs": [
    {
     "name": "stdout",
     "output_type": "stream",
     "text": [
      "Shape of the dataframe is (14486, 27)\n",
      "The number of nulls in each column are \n",
      " Tweet_url                    0\n",
      "Tweet_id                     0\n",
      "Tweet_user_id                0\n",
      "Tweet_username               0\n",
      "Tweet_account                0\n",
      "Tweet_user_location       3387\n",
      "Tweet_user_followers         0\n",
      "Tweet_user_following         0\n",
      "Tweet_time                   0\n",
      "Tweet_location           13955\n",
      "Tweet_country_code       13956\n",
      "Tweet_content                0\n",
      "Tweet_contain_links       3539\n",
      "Tweet_image_urls          6902\n",
      "Tweet_retweet_count          0\n",
      "Tweet_reply_count            0\n",
      "Tweet_like_count             0\n",
      "Tweet_quote_links         6650\n",
      "Retweet_url              14205\n",
      "Retweet_id                   0\n",
      "Retweet_username         14205\n",
      "Retweet_account          14205\n",
      "Retweet_time             14205\n",
      "Retweet_location         14480\n",
      "Retweet_content          14205\n",
      "Retweet_contain_links    14280\n",
      "Retweet_image_urls       14319\n",
      "dtype: int64\n"
     ]
    }
   ],
   "source": [
    "# Data Preprocessing\n",
    "print(\"Shape of the dataframe is\", tweet.shape)\n",
    "print(\"The number of nulls in each column are \\n\", tweet.isna().sum())"
   ]
  },
  {
   "cell_type": "code",
   "execution_count": 4,
   "metadata": {},
   "outputs": [
    {
     "name": "stdout",
     "output_type": "stream",
     "text": [
      "tweet Number1: @RavenholmCLP Best thing is go to AliExpress and get the best specced rugged smartphone for your budget, which for me is £100 (Ulfefone Armour X, doogee S60 lite, oukitel WP5 or whatever) They're indestructible and you can jump start a car with them.\n",
      "tweet Number2: It’s important for us all to find time to step away from our social feeds and take a breath. One way to incorporate a break into your day is in your morning routine. Instead of scrolling your feed while you drink your coffee, try sipping your latte outside while you take a walk.\n",
      "tweet Number3: Follow Me! @brittneyinpink \tLoving my New @riversidetransport Merch! \t.\t.\t.\t.\t.\t.\t.\t.\t.\t#Trucking #trucker #pinky #truckdriver #truckdriverlife  #volvo #freightliner #transportation \t* #RTIfamily\t* #RTIcares\t* #RTIsupportsWOMEN\t* #RTIproud\n",
      "tweet Number4: The #Volvo #XC60 won the AutoTrader 2020 #Award for “Best Car for Families”\t\tIt was praised the for its ease of parking, the interior quality, roominess, reliability and how comfortable it is to drive.\t\tClick below to learn more:\t👉\n",
      "tweet Number5: 📷 #volvo we remove any car Dent without paint, the job can be done in short time at your place, because we care your car🚙, Make your car again new, Call us for more details 📞00971559888165 . . . . . #dubaicars #dubai #cars #uae #dubailife...\n",
      "tweet Number6: Need parts for your #Ford, #Freightliner, #WesternStar, #Sterling, #Navistar, #Isuzu, #PACCAR, #Kenworth, #Peterbilt, #Mack, #Volvo #Hino? Think #Amazon for all of your Heavy #Truck Parts needs!\n",
      "tweet Number7: #wcw\t\t@Kirbyy.lee_v40 \t\tShop:\t \t•\t•\t•\t➡️ @volksnation\t➡ @hbmotorwerks\t➡ @euroautosales \t➡@dub.expo\t➡@dubkandy\t•\t•\t\t#volksnation \t#volvo\t#v40\t#volvov40\t#alleuro\t#bagged\n",
      "tweet Number8: Anyone know how I can find out about the conclusion of a @metpoliceuk car chase tonight? Literally had to jump off my bike out the way of a Volvo XC90 being chased by a police car coming up from behind me on the quiet way in Greenwich this evening. Scared the life out of me\n",
      "tweet Number9: @YvetteChanson @AmyMcGrathKY @harrisonjaime Damn straight, done and done..\n",
      "tweet Number10: Pre Purchase Vehicle Inspection of a 2008 Volvo XC9 with Petrol Engine in Seven Hills, NSW with Some Small Issues.\t\t#volvoxc9 #volvo #carinspection #vehicleinspection #cars #vehicles #vehicleforsale  #vehicleinspector #lastcheck #lastcheckvehicleinspection\n"
     ]
    }
   ],
   "source": [
    "t=tweet['Tweet_content'].to_list()\n",
    "for i in range(10):\n",
    "    print(\"tweet Number\"+str(i+1)+\": \"+t[i])"
   ]
  },
  {
   "cell_type": "code",
   "execution_count": 5,
   "metadata": {},
   "outputs": [
    {
     "data": {
      "text/plain": [
       "US    175\n",
       "GB    127\n",
       "SE     36\n",
       "IN     28\n",
       "BR     26\n",
       "ZA     20\n",
       "CA     13\n",
       "MY     12\n",
       "SG     12\n",
       "NL     10\n",
       "DE     10\n",
       "BE      8\n",
       "IE      6\n",
       "AE      6\n",
       "PL      5\n",
       "AU      4\n",
       "KE      4\n",
       "ES      3\n",
       "IT      3\n",
       "NO      2\n",
       "Name: Tweet_country_code, dtype: int64"
      ]
     },
     "execution_count": 5,
     "metadata": {},
     "output_type": "execute_result"
    }
   ],
   "source": [
    "tweet['Tweet_country_code'].value_counts().head(n=20)"
   ]
  },
  {
   "cell_type": "code",
   "execution_count": 6,
   "metadata": {},
   "outputs": [],
   "source": [
    "t1=tweet[~tweet['Tweet_username'].str.contains('Audi|audi|volvo|Volvo|SHEIN|fasting|KetoCycle')]"
   ]
  },
  {
   "cell_type": "code",
   "execution_count": 7,
   "metadata": {},
   "outputs": [
    {
     "name": "stderr",
     "output_type": "stream",
     "text": [
      "F:\\anaconda3\\lib\\site-packages\\pandas\\core\\indexing.py:845: SettingWithCopyWarning: \n",
      "A value is trying to be set on a copy of a slice from a DataFrame.\n",
      "Try using .loc[row_indexer,col_indexer] = value instead\n",
      "\n",
      "See the caveats in the documentation: https://pandas.pydata.org/pandas-docs/stable/user_guide/indexing.html#returning-a-view-versus-a-copy\n",
      "  self.obj[key] = _infer_fill_value(value)\n",
      "F:\\anaconda3\\lib\\site-packages\\pandas\\core\\indexing.py:966: SettingWithCopyWarning: \n",
      "A value is trying to be set on a copy of a slice from a DataFrame.\n",
      "Try using .loc[row_indexer,col_indexer] = value instead\n",
      "\n",
      "See the caveats in the documentation: https://pandas.pydata.org/pandas-docs/stable/user_guide/indexing.html#returning-a-view-versus-a-copy\n",
      "  self.obj[item] = s\n"
     ]
    },
    {
     "data": {
      "text/plain": [
       "<matplotlib.axes._subplots.AxesSubplot at 0x1f208f53640>"
      ]
     },
     "execution_count": 7,
     "metadata": {},
     "output_type": "execute_result"
    },
    {
     "data": {
      "image/png": "[encoded data removed]",
      "text/plain": [
       "<Figure size 1080x576 with 1 Axes>"
      ]
     },
     "metadata": {
      "needs_background": "light"
     },
     "output_type": "display_data"
    }
   ],
   "source": [
    "t1.loc[:,'Date']=pd.to_datetime(t1['Tweet_time']).dt.date\n",
    "t1.loc[:,'Time']=pd.to_datetime(t1['Tweet_time']).dt.time\n",
    "daily=t1.groupby('Date').size().iloc[3:-1]\n",
    "daily.plot(x='Date',kind='bar',figsize=(15,8))\n"
   ]
  },
  {
   "cell_type": "code",
   "execution_count": 8,
   "metadata": {},
   "outputs": [
    {
     "data": {
      "text/html": [
       "<div>\n",
       "<style scoped>\n",
       "    .dataframe tbody tr th:only-of-type {\n",
       "        vertical-align: middle;\n",
       "    }\n",
       "\n",
       "    .dataframe tbody tr th {\n",
       "        vertical-align: top;\n",
       "    }\n",
       "\n",
       "    .dataframe thead th {\n",
       "        text-align: right;\n",
       "    }\n",
       "</style>\n",
       "<table border=\"1\" class=\"dataframe\">\n",
       "  <thead>\n",
       "    <tr style=\"text-align: right;\">\n",
       "      <th></th>\n",
       "      <th>Tweet_content</th>\n",
       "      <th>Tweet_username</th>\n",
       "      <th>Tweet_retweet_count</th>\n",
       "    </tr>\n",
       "  </thead>\n",
       "  <tbody>\n",
       "    <tr>\n",
       "      <th>0</th>\n",
       "      <td>People on opposite ends of the political spect...</td>\n",
       "      <td>The Wall Street Journal</td>\n",
       "      <td>469</td>\n",
       "    </tr>\n",
       "    <tr>\n",
       "      <th>1</th>\n",
       "      <td>People on opposite ends of the political spect...</td>\n",
       "      <td>The Wall Street Journal</td>\n",
       "      <td>469</td>\n",
       "    </tr>\n",
       "    <tr>\n",
       "      <th>2</th>\n",
       "      <td>People on opposite ends of the political spect...</td>\n",
       "      <td>The Wall Street Journal</td>\n",
       "      <td>469</td>\n",
       "    </tr>\n",
       "    <tr>\n",
       "      <th>3</th>\n",
       "      <td>People on opposite ends of the political spect...</td>\n",
       "      <td>The Wall Street Journal</td>\n",
       "      <td>469</td>\n",
       "    </tr>\n",
       "    <tr>\n",
       "      <th>4</th>\n",
       "      <td>People on opposite ends of the political spect...</td>\n",
       "      <td>The Wall Street Journal</td>\n",
       "      <td>469</td>\n",
       "    </tr>\n",
       "    <tr>\n",
       "      <th>5</th>\n",
       "      <td>People on opposite ends of the political spect...</td>\n",
       "      <td>The Wall Street Journal</td>\n",
       "      <td>469</td>\n",
       "    </tr>\n",
       "    <tr>\n",
       "      <th>6</th>\n",
       "      <td>People on opposite ends of the political spect...</td>\n",
       "      <td>The Wall Street Journal</td>\n",
       "      <td>469</td>\n",
       "    </tr>\n",
       "    <tr>\n",
       "      <th>7</th>\n",
       "      <td>People on opposite ends of the political spect...</td>\n",
       "      <td>The Wall Street Journal</td>\n",
       "      <td>469</td>\n",
       "    </tr>\n",
       "    <tr>\n",
       "      <th>8</th>\n",
       "      <td>People on opposite ends of the political spect...</td>\n",
       "      <td>The Wall Street Journal</td>\n",
       "      <td>469</td>\n",
       "    </tr>\n",
       "    <tr>\n",
       "      <th>9</th>\n",
       "      <td>People on opposite ends of the political spect...</td>\n",
       "      <td>The Wall Street Journal</td>\n",
       "      <td>469</td>\n",
       "    </tr>\n",
       "  </tbody>\n",
       "</table>\n",
       "</div>"
      ],
      "text/plain": [
       "                                       Tweet_content           Tweet_username  \\\n",
       "0  People on opposite ends of the political spect...  The Wall Street Journal   \n",
       "1  People on opposite ends of the political spect...  The Wall Street Journal   \n",
       "2  People on opposite ends of the political spect...  The Wall Street Journal   \n",
       "3  People on opposite ends of the political spect...  The Wall Street Journal   \n",
       "4  People on opposite ends of the political spect...  The Wall Street Journal   \n",
       "5  People on opposite ends of the political spect...  The Wall Street Journal   \n",
       "6  People on opposite ends of the political spect...  The Wall Street Journal   \n",
       "7  People on opposite ends of the political spect...  The Wall Street Journal   \n",
       "8  People on opposite ends of the political spect...  The Wall Street Journal   \n",
       "9  People on opposite ends of the political spect...  The Wall Street Journal   \n",
       "\n",
       "   Tweet_retweet_count  \n",
       "0                  469  \n",
       "1                  469  \n",
       "2                  469  \n",
       "3                  469  \n",
       "4                  469  \n",
       "5                  469  \n",
       "6                  469  \n",
       "7                  469  \n",
       "8                  469  \n",
       "9                  469  "
      ]
     },
     "execution_count": 8,
     "metadata": {},
     "output_type": "execute_result"
    }
   ],
   "source": [
    "#top 10 retweet\n",
    "top_retweet=t1.sort_values(by='Tweet_retweet_count',ascending=False).reset_index()[['Tweet_content','Tweet_username','Tweet_retweet_count']].head(10)\n",
    "top_retweet"
   ]
  },
  {
   "cell_type": "code",
   "execution_count": 9,
   "metadata": {},
   "outputs": [
    {
     "data": {
      "text/html": [
       "<div>\n",
       "<style scoped>\n",
       "    .dataframe tbody tr th:only-of-type {\n",
       "        vertical-align: middle;\n",
       "    }\n",
       "\n",
       "    .dataframe tbody tr th {\n",
       "        vertical-align: top;\n",
       "    }\n",
       "\n",
       "    .dataframe thead th {\n",
       "        text-align: right;\n",
       "    }\n",
       "</style>\n",
       "<table border=\"1\" class=\"dataframe\">\n",
       "  <thead>\n",
       "    <tr style=\"text-align: right;\">\n",
       "      <th></th>\n",
       "      <th>Tweet_content</th>\n",
       "      <th>Tweet_username</th>\n",
       "      <th>Tweet_reply_count</th>\n",
       "    </tr>\n",
       "  </thead>\n",
       "  <tbody>\n",
       "    <tr>\n",
       "      <th>0</th>\n",
       "      <td>People on opposite ends of the political spect...</td>\n",
       "      <td>The Wall Street Journal</td>\n",
       "      <td>1120</td>\n",
       "    </tr>\n",
       "    <tr>\n",
       "      <th>1</th>\n",
       "      <td>People on opposite ends of the political spect...</td>\n",
       "      <td>The Wall Street Journal</td>\n",
       "      <td>1120</td>\n",
       "    </tr>\n",
       "    <tr>\n",
       "      <th>2</th>\n",
       "      <td>People on opposite ends of the political spect...</td>\n",
       "      <td>The Wall Street Journal</td>\n",
       "      <td>1120</td>\n",
       "    </tr>\n",
       "    <tr>\n",
       "      <th>3</th>\n",
       "      <td>People on opposite ends of the political spect...</td>\n",
       "      <td>The Wall Street Journal</td>\n",
       "      <td>1120</td>\n",
       "    </tr>\n",
       "    <tr>\n",
       "      <th>4</th>\n",
       "      <td>People on opposite ends of the political spect...</td>\n",
       "      <td>The Wall Street Journal</td>\n",
       "      <td>1120</td>\n",
       "    </tr>\n",
       "    <tr>\n",
       "      <th>5</th>\n",
       "      <td>People on opposite ends of the political spect...</td>\n",
       "      <td>The Wall Street Journal</td>\n",
       "      <td>1120</td>\n",
       "    </tr>\n",
       "    <tr>\n",
       "      <th>6</th>\n",
       "      <td>People on opposite ends of the political spect...</td>\n",
       "      <td>The Wall Street Journal</td>\n",
       "      <td>1120</td>\n",
       "    </tr>\n",
       "    <tr>\n",
       "      <th>7</th>\n",
       "      <td>People on opposite ends of the political spect...</td>\n",
       "      <td>The Wall Street Journal</td>\n",
       "      <td>1120</td>\n",
       "    </tr>\n",
       "    <tr>\n",
       "      <th>8</th>\n",
       "      <td>People on opposite ends of the political spect...</td>\n",
       "      <td>The Wall Street Journal</td>\n",
       "      <td>1120</td>\n",
       "    </tr>\n",
       "    <tr>\n",
       "      <th>9</th>\n",
       "      <td>People on opposite ends of the political spect...</td>\n",
       "      <td>The Wall Street Journal</td>\n",
       "      <td>1120</td>\n",
       "    </tr>\n",
       "  </tbody>\n",
       "</table>\n",
       "</div>"
      ],
      "text/plain": [
       "                                       Tweet_content           Tweet_username  \\\n",
       "0  People on opposite ends of the political spect...  The Wall Street Journal   \n",
       "1  People on opposite ends of the political spect...  The Wall Street Journal   \n",
       "2  People on opposite ends of the political spect...  The Wall Street Journal   \n",
       "3  People on opposite ends of the political spect...  The Wall Street Journal   \n",
       "4  People on opposite ends of the political spect...  The Wall Street Journal   \n",
       "5  People on opposite ends of the political spect...  The Wall Street Journal   \n",
       "6  People on opposite ends of the political spect...  The Wall Street Journal   \n",
       "7  People on opposite ends of the political spect...  The Wall Street Journal   \n",
       "8  People on opposite ends of the political spect...  The Wall Street Journal   \n",
       "9  People on opposite ends of the political spect...  The Wall Street Journal   \n",
       "\n",
       "   Tweet_reply_count  \n",
       "0               1120  \n",
       "1               1120  \n",
       "2               1120  \n",
       "3               1120  \n",
       "4               1120  \n",
       "5               1120  \n",
       "6               1120  \n",
       "7               1120  \n",
       "8               1120  \n",
       "9               1120  "
      ]
     },
     "execution_count": 9,
     "metadata": {},
     "output_type": "execute_result"
    }
   ],
   "source": [
    "#top 10 reply\n",
    "top_reply=t1.sort_values(by='Tweet_reply_count',ascending=False).reset_index()[['Tweet_content','Tweet_username','Tweet_reply_count']].head(10)\n",
    "top_reply"
   ]
  },
  {
   "cell_type": "code",
   "execution_count": 10,
   "metadata": {},
   "outputs": [
    {
     "data": {
      "text/html": [
       "<div>\n",
       "<style scoped>\n",
       "    .dataframe tbody tr th:only-of-type {\n",
       "        vertical-align: middle;\n",
       "    }\n",
       "\n",
       "    .dataframe tbody tr th {\n",
       "        vertical-align: top;\n",
       "    }\n",
       "\n",
       "    .dataframe thead th {\n",
       "        text-align: right;\n",
       "    }\n",
       "</style>\n",
       "<table border=\"1\" class=\"dataframe\">\n",
       "  <thead>\n",
       "    <tr style=\"text-align: right;\">\n",
       "      <th></th>\n",
       "      <th>Tweet_content</th>\n",
       "      <th>Tweet_username</th>\n",
       "      <th>Tweet_like_count</th>\n",
       "    </tr>\n",
       "  </thead>\n",
       "  <tbody>\n",
       "    <tr>\n",
       "      <th>0</th>\n",
       "      <td>People on opposite ends of the political spect...</td>\n",
       "      <td>The Wall Street Journal</td>\n",
       "      <td>2902</td>\n",
       "    </tr>\n",
       "    <tr>\n",
       "      <th>1</th>\n",
       "      <td>People on opposite ends of the political spect...</td>\n",
       "      <td>The Wall Street Journal</td>\n",
       "      <td>2902</td>\n",
       "    </tr>\n",
       "    <tr>\n",
       "      <th>2</th>\n",
       "      <td>People on opposite ends of the political spect...</td>\n",
       "      <td>The Wall Street Journal</td>\n",
       "      <td>2902</td>\n",
       "    </tr>\n",
       "    <tr>\n",
       "      <th>3</th>\n",
       "      <td>People on opposite ends of the political spect...</td>\n",
       "      <td>The Wall Street Journal</td>\n",
       "      <td>2902</td>\n",
       "    </tr>\n",
       "    <tr>\n",
       "      <th>4</th>\n",
       "      <td>People on opposite ends of the political spect...</td>\n",
       "      <td>The Wall Street Journal</td>\n",
       "      <td>2902</td>\n",
       "    </tr>\n",
       "    <tr>\n",
       "      <th>5</th>\n",
       "      <td>People on opposite ends of the political spect...</td>\n",
       "      <td>The Wall Street Journal</td>\n",
       "      <td>2902</td>\n",
       "    </tr>\n",
       "    <tr>\n",
       "      <th>6</th>\n",
       "      <td>People on opposite ends of the political spect...</td>\n",
       "      <td>The Wall Street Journal</td>\n",
       "      <td>2902</td>\n",
       "    </tr>\n",
       "    <tr>\n",
       "      <th>7</th>\n",
       "      <td>People on opposite ends of the political spect...</td>\n",
       "      <td>The Wall Street Journal</td>\n",
       "      <td>2902</td>\n",
       "    </tr>\n",
       "    <tr>\n",
       "      <th>8</th>\n",
       "      <td>People on opposite ends of the political spect...</td>\n",
       "      <td>The Wall Street Journal</td>\n",
       "      <td>2902</td>\n",
       "    </tr>\n",
       "    <tr>\n",
       "      <th>9</th>\n",
       "      <td>People on opposite ends of the political spect...</td>\n",
       "      <td>The Wall Street Journal</td>\n",
       "      <td>2902</td>\n",
       "    </tr>\n",
       "  </tbody>\n",
       "</table>\n",
       "</div>"
      ],
      "text/plain": [
       "                                       Tweet_content           Tweet_username  \\\n",
       "0  People on opposite ends of the political spect...  The Wall Street Journal   \n",
       "1  People on opposite ends of the political spect...  The Wall Street Journal   \n",
       "2  People on opposite ends of the political spect...  The Wall Street Journal   \n",
       "3  People on opposite ends of the political spect...  The Wall Street Journal   \n",
       "4  People on opposite ends of the political spect...  The Wall Street Journal   \n",
       "5  People on opposite ends of the political spect...  The Wall Street Journal   \n",
       "6  People on opposite ends of the political spect...  The Wall Street Journal   \n",
       "7  People on opposite ends of the political spect...  The Wall Street Journal   \n",
       "8  People on opposite ends of the political spect...  The Wall Street Journal   \n",
       "9  People on opposite ends of the political spect...  The Wall Street Journal   \n",
       "\n",
       "   Tweet_like_count  \n",
       "0              2902  \n",
       "1              2902  \n",
       "2              2902  \n",
       "3              2902  \n",
       "4              2902  \n",
       "5              2902  \n",
       "6              2902  \n",
       "7              2902  \n",
       "8              2902  \n",
       "9              2902  "
      ]
     },
     "execution_count": 10,
     "metadata": {},
     "output_type": "execute_result"
    }
   ],
   "source": [
    "#top 10 like \n",
    "top_like=t1.sort_values(by='Tweet_like_count',ascending=False).reset_index()[['Tweet_content','Tweet_username','Tweet_like_count']].head(10)\n",
    "top_like"
   ]
  },
  {
   "cell_type": "code",
   "execution_count": 11,
   "metadata": {},
   "outputs": [],
   "source": [
    "# from nltk.tokenize import word_tokenize\n",
    "# print(word_tokenize(t1['clean_text'][1]))"
   ]
  },
  {
   "cell_type": "code",
   "execution_count": 12,
   "metadata": {},
   "outputs": [],
   "source": [
    "def drawbarplot(x,y,xlabel,title,figsize=(10,10)):\n",
    "    plt.figure(figsize=figsize)    \n",
    "    sns.barplot(x=x,y=y,palette = 'terrain',orient='h',order=y)\n",
    "    for i,v in enumerate(x):\n",
    "        plt.text(0.8,i,v,color='k')\n",
    "    \n",
    "    plt.title(title,fontsize=20)\n",
    "    plt.xlabel(xlabel,fontsize =14)\n",
    "    plt.show()"
   ]
  },
  {
   "cell_type": "code",
   "execution_count": 13,
   "metadata": {},
   "outputs": [
    {
     "name": "stderr",
     "output_type": "stream",
     "text": [
      "F:\\anaconda3\\lib\\site-packages\\matplotlib\\backends\\backend_agg.py:214: RuntimeWarning: Glyph 55356 missing from current font.\n",
      "  font.set_text(s, 0.0, flags=flags)\n",
      "F:\\anaconda3\\lib\\site-packages\\matplotlib\\backends\\backend_agg.py:214: RuntimeWarning: Glyph 57096 missing from current font.\n",
      "  font.set_text(s, 0.0, flags=flags)\n",
      "F:\\anaconda3\\lib\\site-packages\\matplotlib\\backends\\backend_agg.py:183: RuntimeWarning: Glyph 55356 missing from current font.\n",
      "  font.set_text(s, 0, flags=flags)\n",
      "F:\\anaconda3\\lib\\site-packages\\matplotlib\\backends\\backend_agg.py:183: RuntimeWarning: Glyph 57096 missing from current font.\n",
      "  font.set_text(s, 0, flags=flags)\n"
     ]
    },
    {
     "data": {
      "image/png": "[encoded data removed]",
      "text/plain": [
       "<Figure size 576x288 with 1 Axes>"
      ]
     },
     "metadata": {
      "needs_background": "light"
     },
     "output_type": "display_data"
    }
   ],
   "source": [
    "count=t1['Tweet_username'].value_counts()\n",
    "df_count=pd.DataFrame()\n",
    "df_count['Username'] = count.index\n",
    "df_count['activeCount'] = count.values\n",
    "df_count = df_count.iloc[:10,:]\n",
    "drawbarplot(x=df_count.activeCount,y=df_count.Username,xlabel='count',title='Top 10 active user',figsize=(8,4))"
   ]
  },
  {
   "cell_type": "code",
   "execution_count": 14,
   "metadata": {},
   "outputs": [
    {
     "data": {
      "image/png": "[encoded data removed]",
      "text/plain": [
       "<Figure size 576x288 with 1 Axes>"
      ]
     },
     "metadata": {
      "needs_background": "light"
     },
     "output_type": "display_data"
    }
   ],
   "source": [
    "df_userfollower = t1.loc[:,['Tweet_username','Tweet_user_followers']]\n",
    "df_userfollower.sort_values(by='Tweet_user_followers',ascending=False,inplace=True)\n",
    "df_userfollower.drop_duplicates(subset='Tweet_username',keep='first',inplace=True)\n",
    "df_count =df_userfollower.iloc[:10,:]\n",
    "drawbarplot(x=df_count.Tweet_user_followers,y=df_count.Tweet_username,xlabel='count',title='Top 10 influencial user',figsize=(8,4))"
   ]
  },
  {
   "cell_type": "code",
   "execution_count": 15,
   "metadata": {},
   "outputs": [],
   "source": [
    "# mentions_keys=list(['#volvo', '#volvoc30', '#volvos60', '#volvoxc90','vovloxc40','xc40bev','xc40','xc90','s60'])\n",
    "st_words = set(STOPWORDS)\n",
    "#enhancing stopword by removing @mentions and shorthands\n",
    "st_words.update(['https','CO','RT','Please','via','amp','place','new','ttot','best','great','top','ht','Volvo','car','cars'])\n",
    "# st_words.update([s.lower() for s in mentions_keys])"
   ]
  },
  {
   "cell_type": "code",
   "execution_count": 16,
   "metadata": {},
   "outputs": [],
   "source": [
    "wc = WordCloud(height=300,repeat=False,width=500,max_words=50,stopwords=st_words,colormap='terrain',background_color='white').generate(' '.join(t1['Tweet_content'].dropna().astype(str)))\n",
    "# plt.figure(figsize = (16,16))\n",
    "# plt.imshow(wc)\n",
    "# plt.title('Tweets Wordcloud')\n",
    "# plt.axis('off')\n",
    "# plt.show()"
   ]
  },
  {
   "cell_type": "code",
   "execution_count": 17,
   "metadata": {},
   "outputs": [],
   "source": [
    "from sklearn.base import BaseEstimator, TransformerMixin\n",
    "import emoji\n",
    "import string\n",
    "from nltk.corpus import stopwords\n",
    "from nltk.stem import PorterStemmer\n",
    "from nltk.tokenize import word_tokenize\n",
    "\n",
    "class TextCounts(BaseEstimator, TransformerMixin):\n",
    "    \n",
    "    def count_regex(self, pattern, tweet):\n",
    "        return len(re.findall(pattern, tweet))\n",
    "    \n",
    "    def fit(self, X, y=None, **fit_params):\n",
    "        # fit method is used when specific operations need to be done on the train data, but not on the test data\n",
    "        return self\n",
    "    \n",
    "    def transform(self, X, **transform_params):\n",
    "        count_words = X.apply(lambda x: self.count_regex(r'\\w+', x)) \n",
    "        count_mentions = X.apply(lambda x: self.count_regex(r'@\\w+', x))\n",
    "        count_hashtags = X.apply(lambda x: self.count_regex(r'#\\w+', x))\n",
    "        #count_capital_words = X.apply(lambda x: self.count_regex(r'\\b[A-Z]{2,}\\b', x))\n",
    "        #count_excl_quest_marks = X.apply(lambda x: self.count_regex(r'!|\\?', x))\n",
    "        count_urls = X.apply(lambda x: self.count_regex(r'http.?://[^\\s]+[\\s]?', x))\n",
    "        # We will replace the emoji symbols with a description, which makes using a regex for counting easier\n",
    "        # Moreover, it will result in having more words in the tweet\n",
    "        count_emojis = X.apply(lambda x: emoji.demojize(x)).apply(lambda x: self.count_regex(r':[a-z_&]+:', x))\n",
    "        \n",
    "        df = pd.DataFrame({'count_words': count_words\n",
    "                           , 'count_mentions': count_mentions\n",
    "                           , 'count_hashtags': count_hashtags                           \n",
    "                           , 'count_urls': count_urls\n",
    "                           , 'count_emojis': count_emojis\n",
    "                          })\n",
    "        \n",
    "        return df"
   ]
  },
  {
   "cell_type": "code",
   "execution_count": 18,
   "metadata": {},
   "outputs": [
    {
     "data": {
      "text/html": [
       "<div>\n",
       "<style scoped>\n",
       "    .dataframe tbody tr th:only-of-type {\n",
       "        vertical-align: middle;\n",
       "    }\n",
       "\n",
       "    .dataframe tbody tr th {\n",
       "        vertical-align: top;\n",
       "    }\n",
       "\n",
       "    .dataframe thead th {\n",
       "        text-align: right;\n",
       "    }\n",
       "</style>\n",
       "<table border=\"1\" class=\"dataframe\">\n",
       "  <thead>\n",
       "    <tr style=\"text-align: right;\">\n",
       "      <th></th>\n",
       "      <th>count_words</th>\n",
       "      <th>count_mentions</th>\n",
       "      <th>count_hashtags</th>\n",
       "      <th>count_urls</th>\n",
       "      <th>count_emojis</th>\n",
       "    </tr>\n",
       "  </thead>\n",
       "  <tbody>\n",
       "    <tr>\n",
       "      <th>0</th>\n",
       "      <td>44</td>\n",
       "      <td>1</td>\n",
       "      <td>0</td>\n",
       "      <td>0</td>\n",
       "      <td>0</td>\n",
       "    </tr>\n",
       "    <tr>\n",
       "      <th>1</th>\n",
       "      <td>54</td>\n",
       "      <td>0</td>\n",
       "      <td>0</td>\n",
       "      <td>0</td>\n",
       "      <td>0</td>\n",
       "    </tr>\n",
       "    <tr>\n",
       "      <th>2</th>\n",
       "      <td>20</td>\n",
       "      <td>2</td>\n",
       "      <td>12</td>\n",
       "      <td>0</td>\n",
       "      <td>0</td>\n",
       "    </tr>\n",
       "    <tr>\n",
       "      <th>4</th>\n",
       "      <td>40</td>\n",
       "      <td>0</td>\n",
       "      <td>6</td>\n",
       "      <td>0</td>\n",
       "      <td>3</td>\n",
       "    </tr>\n",
       "    <tr>\n",
       "      <th>5</th>\n",
       "      <td>26</td>\n",
       "      <td>0</td>\n",
       "      <td>14</td>\n",
       "      <td>0</td>\n",
       "      <td>0</td>\n",
       "    </tr>\n",
       "    <tr>\n",
       "      <th>6</th>\n",
       "      <td>16</td>\n",
       "      <td>6</td>\n",
       "      <td>7</td>\n",
       "      <td>0</td>\n",
       "      <td>5</td>\n",
       "    </tr>\n",
       "    <tr>\n",
       "      <th>7</th>\n",
       "      <td>55</td>\n",
       "      <td>1</td>\n",
       "      <td>0</td>\n",
       "      <td>0</td>\n",
       "      <td>0</td>\n",
       "    </tr>\n",
       "    <tr>\n",
       "      <th>8</th>\n",
       "      <td>8</td>\n",
       "      <td>3</td>\n",
       "      <td>0</td>\n",
       "      <td>0</td>\n",
       "      <td>0</td>\n",
       "    </tr>\n",
       "    <tr>\n",
       "      <th>9</th>\n",
       "      <td>30</td>\n",
       "      <td>0</td>\n",
       "      <td>10</td>\n",
       "      <td>0</td>\n",
       "      <td>0</td>\n",
       "    </tr>\n",
       "    <tr>\n",
       "      <th>10</th>\n",
       "      <td>48</td>\n",
       "      <td>0</td>\n",
       "      <td>4</td>\n",
       "      <td>0</td>\n",
       "      <td>3</td>\n",
       "    </tr>\n",
       "    <tr>\n",
       "      <th>12</th>\n",
       "      <td>45</td>\n",
       "      <td>0</td>\n",
       "      <td>0</td>\n",
       "      <td>0</td>\n",
       "      <td>0</td>\n",
       "    </tr>\n",
       "    <tr>\n",
       "      <th>13</th>\n",
       "      <td>12</td>\n",
       "      <td>0</td>\n",
       "      <td>0</td>\n",
       "      <td>0</td>\n",
       "      <td>0</td>\n",
       "    </tr>\n",
       "    <tr>\n",
       "      <th>14</th>\n",
       "      <td>11</td>\n",
       "      <td>1</td>\n",
       "      <td>1</td>\n",
       "      <td>0</td>\n",
       "      <td>0</td>\n",
       "    </tr>\n",
       "    <tr>\n",
       "      <th>15</th>\n",
       "      <td>17</td>\n",
       "      <td>1</td>\n",
       "      <td>3</td>\n",
       "      <td>0</td>\n",
       "      <td>1</td>\n",
       "    </tr>\n",
       "    <tr>\n",
       "      <th>16</th>\n",
       "      <td>21</td>\n",
       "      <td>2</td>\n",
       "      <td>13</td>\n",
       "      <td>0</td>\n",
       "      <td>0</td>\n",
       "    </tr>\n",
       "    <tr>\n",
       "      <th>17</th>\n",
       "      <td>39</td>\n",
       "      <td>0</td>\n",
       "      <td>4</td>\n",
       "      <td>0</td>\n",
       "      <td>0</td>\n",
       "    </tr>\n",
       "    <tr>\n",
       "      <th>18</th>\n",
       "      <td>12</td>\n",
       "      <td>0</td>\n",
       "      <td>0</td>\n",
       "      <td>0</td>\n",
       "      <td>0</td>\n",
       "    </tr>\n",
       "    <tr>\n",
       "      <th>19</th>\n",
       "      <td>26</td>\n",
       "      <td>0</td>\n",
       "      <td>20</td>\n",
       "      <td>0</td>\n",
       "      <td>0</td>\n",
       "    </tr>\n",
       "    <tr>\n",
       "      <th>20</th>\n",
       "      <td>17</td>\n",
       "      <td>3</td>\n",
       "      <td>6</td>\n",
       "      <td>0</td>\n",
       "      <td>0</td>\n",
       "    </tr>\n",
       "    <tr>\n",
       "      <th>21</th>\n",
       "      <td>17</td>\n",
       "      <td>0</td>\n",
       "      <td>4</td>\n",
       "      <td>0</td>\n",
       "      <td>0</td>\n",
       "    </tr>\n",
       "  </tbody>\n",
       "</table>\n",
       "</div>"
      ],
      "text/plain": [
       "    count_words  count_mentions  count_hashtags  count_urls  count_emojis\n",
       "0            44               1               0           0             0\n",
       "1            54               0               0           0             0\n",
       "2            20               2              12           0             0\n",
       "4            40               0               6           0             3\n",
       "5            26               0              14           0             0\n",
       "6            16               6               7           0             5\n",
       "7            55               1               0           0             0\n",
       "8             8               3               0           0             0\n",
       "9            30               0              10           0             0\n",
       "10           48               0               4           0             3\n",
       "12           45               0               0           0             0\n",
       "13           12               0               0           0             0\n",
       "14           11               1               1           0             0\n",
       "15           17               1               3           0             1\n",
       "16           21               2              13           0             0\n",
       "17           39               0               4           0             0\n",
       "18           12               0               0           0             0\n",
       "19           26               0              20           0             0\n",
       "20           17               3               6           0             0\n",
       "21           17               0               4           0             0"
      ]
     },
     "execution_count": 18,
     "metadata": {},
     "output_type": "execute_result"
    }
   ],
   "source": [
    "tc = TextCounts()\n",
    "df_feature =  tc.fit_transform(t1['Tweet_content'])\n",
    "df_feature.head(20)"
   ]
  },
  {
   "cell_type": "code",
   "execution_count": 19,
   "metadata": {},
   "outputs": [],
   "source": [
    "class CleanText(BaseEstimator, TransformerMixin):\n",
    "    def remove_mentions(self, input_text):\n",
    "        return re.sub(r'@\\w+', '', input_text)\n",
    "    \n",
    "    def remove_urls(self, input_text):\n",
    "        return re.sub(r'http.?://[^\\s]+[\\s]?', '', input_text)\n",
    "    \n",
    "    def emoji_oneword(self, input_text):\n",
    "        # By compressing the underscore, the emoji is kept as one word\n",
    "        return input_text.replace('_','')\n",
    "    \n",
    "    def remove_punctuation(self, input_text):\n",
    "        # Make translation table\n",
    "        punct = string.punctuation\n",
    "        trantab = str.maketrans(punct, len(punct)*' ')  # Every punctuation symbol will be replaced by a space\n",
    "        return input_text.translate(trantab)\n",
    "\n",
    "    def remove_digits(self, input_text):\n",
    "        return re.sub('\\d+', '', input_text)\n",
    "    \n",
    "    def to_lower(self, input_text):\n",
    "        return input_text.lower()\n",
    "    \n",
    "    def remove_stopwords(self, input_text):\n",
    "        #stopwords_list = st_words\n",
    "        stopwords_list=STOPWORDS\n",
    "        # Some words which might indicate a certain sentiment are kept via a whitelist        \n",
    "        words = input_text.split() \n",
    "        clean_words = [word for word in words if (word not in stopwords_list) and len(word) > 1] \n",
    "        return \" \".join(clean_words) \n",
    "    \n",
    "    def stemming(self, input_text):\n",
    "        porter = PorterStemmer()\n",
    "        words = input_text.split() \n",
    "        stemmed_words = [porter.stem(word) for word in words]\n",
    "        return \" \".join(stemmed_words)\n",
    "    \n",
    "    def fit(self, X, y=None, **fit_params):\n",
    "        return self\n",
    "    \n",
    "    def transform(self, X, **transform_params):\n",
    "        clean_X = X.apply(self.remove_mentions).apply(self.remove_urls).apply(self.emoji_oneword).apply(self.remove_punctuation).apply(self.remove_digits).apply(self.to_lower).apply(self.remove_stopwords).apply(self.stemming)        \n",
    "        return clean_X"
   ]
  },
  {
   "cell_type": "code",
   "execution_count": 20,
   "metadata": {},
   "outputs": [
    {
     "name": "stderr",
     "output_type": "stream",
     "text": [
      "F:\\anaconda3\\lib\\site-packages\\pandas\\core\\indexing.py:845: SettingWithCopyWarning: \n",
      "A value is trying to be set on a copy of a slice from a DataFrame.\n",
      "Try using .loc[row_indexer,col_indexer] = value instead\n",
      "\n",
      "See the caveats in the documentation: https://pandas.pydata.org/pandas-docs/stable/user_guide/indexing.html#returning-a-view-versus-a-copy\n",
      "  self.obj[key] = _infer_fill_value(value)\n",
      "F:\\anaconda3\\lib\\site-packages\\pandas\\core\\indexing.py:966: SettingWithCopyWarning: \n",
      "A value is trying to be set on a copy of a slice from a DataFrame.\n",
      "Try using .loc[row_indexer,col_indexer] = value instead\n",
      "\n",
      "See the caveats in the documentation: https://pandas.pydata.org/pandas-docs/stable/user_guide/indexing.html#returning-a-view-versus-a-copy\n",
      "  self.obj[item] = s\n"
     ]
    },
    {
     "data": {
      "text/plain": [
       "0        best thing go aliexpress best spec rug smartph...\n",
       "1        it’ import us find time step away social feed ...\n",
       "2        follow love new merch truck trucker pinki truc...\n",
       "4        volvo remov car dent without paint job done sh...\n",
       "5        need part ford freightlin westernstar sterl na...\n",
       "                               ...                        \n",
       "14481    new arriv ccd barcod scanner xb fast scan spee...\n",
       "14482    tuff protect anti glare screen protector volvo...\n",
       "14483    china volvo car group volvo car own zhejiang g...\n",
       "14484    yee pin volvo xc xc sensu inch clear temper gl...\n",
       "14485    volvo my ecu tcu tune km acceler s→ power hp t...\n",
       "Name: clean_text, Length: 12593, dtype: object"
      ]
     },
     "execution_count": 20,
     "metadata": {},
     "output_type": "execute_result"
    }
   ],
   "source": [
    "ct = CleanText()\n",
    "t1.loc[:,'clean_text'] = ct.fit_transform(t1.loc[:,'Tweet_content'])\n",
    "#Imputing '[no text]' value where there is no text\n",
    "# df_final.loc[df_final['TweetBody'] == '','TweetBody'] = '[no text]'\n",
    "t1['clean_text']"
   ]
  },
  {
   "cell_type": "code",
   "execution_count": 21,
   "metadata": {},
   "outputs": [],
   "source": [
    "# EDA-IK"
   ]
  },
  {
   "cell_type": "code",
   "execution_count": 22,
   "metadata": {},
   "outputs": [],
   "source": [
    "### Find the frequencies of the words that appear in tweets."
   ]
  },
  {
   "cell_type": "code",
   "execution_count": 24,
   "metadata": {},
   "outputs": [],
   "source": [
    "### Find the number of followers for the top 10 most active users"
   ]
  },
  {
   "cell_type": "code",
   "execution_count": 25,
   "metadata": {},
   "outputs": [
    {
     "name": "stdout",
     "output_type": "stream",
     "text": [
      "The number of followers of Frost Bank is 21156\n",
      "The number of followers of Swedish Steel 4 Sale is 2\n",
      "The number of followers of Dr.mewithaPhd is 120\n",
      "The number of followers of Porcellato Engineering is 26267\n",
      "The number of followers of Zamzam Auto Co. is 297\n",
      "The number of followers of John Clark Volvo is 221\n",
      "The number of followers of Alex von Witzleben is 11758\n",
      "The number of followers of cheap cars for cheap is 37\n",
      "The number of followers of FinditParts.com is 1349\n",
      "The number of followers of TruckerToTrucker.com is 11726\n"
     ]
    }
   ],
   "source": [
    "user_count = tweet['Tweet_username'].value_counts()\n",
    "top_user_count = user_count.head(10)\n",
    "top_username = top_user_count.index\n",
    "top_username\n",
    "for name in top_username:\n",
    "    follower_num = tweet[tweet['Tweet_username'] == name].iloc[0, 6]\n",
    "    print(\"The number of followers of\", name, \"is\", follower_num)"
   ]
  },
  {
   "cell_type": "code",
   "execution_count": 26,
   "metadata": {},
   "outputs": [
    {
     "data": {
      "text/plain": [
       "'Minneapolis, MN'"
      ]
     },
     "execution_count": 26,
     "metadata": {},
     "output_type": "execute_result"
    }
   ],
   "source": [
    "volvo_US = tweet[tweet[\"Tweet_country_code\"] == \"US\"]\n",
    "location_list = []\n",
    "for location in volvo_US[\"Tweet_location\"]:\n",
    "    location_list += location[-2:].upper()\n",
    "\n",
    "#volvo_US[\"Tweet_location\"] = location\n",
    "#volvo_US.replace(volvo_US[\"Tweet_location\"], location)\n",
    "location"
   ]
  },
  {
   "cell_type": "code",
   "execution_count": 27,
   "metadata": {},
   "outputs": [
    {
     "name": "stdout",
     "output_type": "stream",
     "text": [
      "The frequency for S60 is 18\n",
      "The frequency for XC40 is 7\n",
      "The frequency for XC90 is 22\n",
      "The frequency for XC60 is 0\n",
      "The frequency for T6 is 8\n"
     ]
    }
   ],
   "source": [
    "car_model = [\"S60\", \"XC40\", \"s60\", \"XC90\", \"XC60\", \"xc90\", \"T6\"]\n",
    "S60_count = 0\n",
    "XC40_count = 0\n",
    "XC90_count = 0\n",
    "XC60_count = 0\n",
    "T6_count = 0\n",
    "clean_words2 = ' '.join(volvo_US['Tweet_content'].dropna().astype(str))\n",
    "splitted = clean_words2.split(\" \")\n",
    "for tweets in splitted:\n",
    "    if (tweets == (car_model[0] or car_model[2])):\n",
    "        S60_count += 1\n",
    "    if (tweets == (car_model[3] or car_model[5])):\n",
    "        XC90_count += 1\n",
    "    if (tweets == car_model[1]):\n",
    "        XC40_count += 1\n",
    "    if (tweets == car_model[4]):\n",
    "        XC60_count += 1\n",
    "    if (tweets == car_model[6]):\n",
    "        T6_count += 1\n",
    "print(\"The frequency for \" + car_model[0] + \" is \" + str(S60_count))\n",
    "print(\"The frequency for \" + car_model[1] + \" is \" + str(XC40_count))\n",
    "print(\"The frequency for \" + car_model[3] + \" is \" + str(XC90_count))\n",
    "print(\"The frequency for \" + car_model[4] + \" is \" + str(XC60_count))\n",
    "print(\"The frequency for \" + car_model[6] + \" is \" + str(T6_count))"
   ]
  },
  {
   "cell_type": "code",
   "execution_count": null,
   "metadata": {},
   "outputs": [],
   "source": []
  },
  {
   "cell_type": "code",
   "execution_count": 28,
   "metadata": {},
   "outputs": [],
   "source": [
    "# More EDA-EC\n"
   ]
  },
  {
   "cell_type": "code",
   "execution_count": 29,
   "metadata": {},
   "outputs": [],
   "source": [
    "from textblob import TextBlob\n",
    "import matplotlib.pyplot as plt"
   ]
  },
  {
   "cell_type": "code",
   "execution_count": 30,
   "metadata": {},
   "outputs": [
    {
     "name": "stdout",
     "output_type": "stream",
     "text": [
      "Sentiment(polarity=1.0, subjectivity=0.3)\n"
     ]
    }
   ],
   "source": [
    "# Example\n",
    "blob1 = TextBlob(tweet['Tweet_content'][0])\n",
    "print(blob1.sentiment)"
   ]
  },
  {
   "cell_type": "code",
   "execution_count": 31,
   "metadata": {},
   "outputs": [
    {
     "data": {
      "image/png": "[encoded data removed]",
      "text/plain": [
       "<Figure size 432x288 with 1 Axes>"
      ]
     },
     "metadata": {},
     "output_type": "display_data"
    }
   ],
   "source": [
    "# Breaking down percentage of Positive, Neutral, Negative tweets within our dataset\n",
    "tweet_content = tweet['Tweet_content'].values.tolist()\n",
    "\n",
    "positive = 0\n",
    "neutral = 0\n",
    "negative = 0\n",
    "polarity = 0\n",
    "\n",
    "def percentage(part, whole):\n",
    "    return 100* float(part)/float(whole)\n",
    "\n",
    "for t in tweet_content:\n",
    "    analysis = TextBlob(t)\n",
    "    polarity += analysis.sentiment.polarity\n",
    "    \n",
    "    if (analysis.sentiment.polarity == 0):\n",
    "        neutral += 1\n",
    "    if (analysis.sentiment.polarity > 0.00):\n",
    "        positive += 1\n",
    "    if (analysis.sentiment.polarity < 0.00):\n",
    "        negative += 1\n",
    "\n",
    "total = len(tweet_content)\n",
    "        \n",
    "positive = percentage(positive, total)\n",
    "neutral = percentage(neutral, total)\n",
    "negative = percentage(negative, total)\n",
    "\n",
    "positive = format(positive, '.2f')\n",
    "neutral = format(neutral, '.2f')\n",
    "negative = format(negative, '.2f')\n",
    "\n",
    "labels = [\"Positive [\"+str(positive)+\"%]\",\"Neutral [\"+str(neutral)+\"%]\",\"Negative [\"+str(negative)+\"%]\"]\n",
    "sizes = [positive, neutral, negative]\n",
    "colors = ['yellowgreen','gold','red']\n",
    "patches, texts = plt.pie(sizes, colors = colors, startangle = 90)\n",
    "plt.legend(patches, labels, loc='best')\n",
    "plt.axis('equal')\n",
    "plt.tight_layout()\n",
    "plt.show()"
   ]
  },
  {
   "cell_type": "code",
   "execution_count": 32,
   "metadata": {},
   "outputs": [
    {
     "data": {
      "text/plain": [
       "0                 Positive\n",
       "1        Slightly Positive\n",
       "2        Slightly Positive\n",
       "3                 Positive\n",
       "4        Slightly Positive\n",
       "               ...        \n",
       "14481    Slightly Positive\n",
       "14482             Negative\n",
       "14483             Negative\n",
       "14484    Slightly Positive\n",
       "14485             Negative\n",
       "Name: Tweet_sentiment, Length: 14486, dtype: object"
      ]
     },
     "execution_count": 32,
     "metadata": {},
     "output_type": "execute_result"
    }
   ],
   "source": [
    "# Further breaking down each segment and adding labels\n",
    "tweet_sentiment = tweet_content.copy()\n",
    "for i in np.arange(total):\n",
    "    analysis = TextBlob(tweet_sentiment[i])\n",
    "    polarity += analysis.sentiment.polarity\n",
    "    \n",
    "    if (analysis.sentiment.polarity == 0):\n",
    "        tweet_sentiment[i] = 'Neutral'\n",
    "    if (0 < analysis.sentiment.polarity <= 0.50):\n",
    "        tweet_sentiment[i] = 'Slightly Positive'\n",
    "    if (0.50 < analysis.sentiment.polarity <= 1.0):\n",
    "        tweet_sentiment[i] = 'Positive'\n",
    "    if (-1.0 <= analysis.sentiment.polarity <= -0.50):\n",
    "        tweet_sentiment[i] = 'Slightly Negative'    \n",
    "    if (-0.50 < analysis.sentiment.polarity <= 0):\n",
    "        tweet_sentiment[i] = 'Negative'\n",
    "        \n",
    "        \n",
    "tweet['Tweet_sentiment'] = tweet_sentiment\n",
    "tweet['Tweet_sentiment']"
   ]
  },
  {
   "cell_type": "code",
   "execution_count": 33,
   "metadata": {},
   "outputs": [
    {
     "name": "stderr",
     "output_type": "stream",
     "text": [
      "<ipython-input-33-1a410f4d8bfc>:2: SettingWithCopyWarning: \n",
      "A value is trying to be set on a copy of a slice from a DataFrame.\n",
      "Try using .loc[row_indexer,col_indexer] = value instead\n",
      "\n",
      "See the caveats in the documentation: https://pandas.pydata.org/pandas-docs/stable/user_guide/indexing.html#returning-a-view-versus-a-copy\n",
      "  t2[\"Tweet_content\"] = t2[\"Tweet_content\"].str.lower()\n",
      "<ipython-input-33-1a410f4d8bfc>:11: SettingWithCopyWarning: \n",
      "A value is trying to be set on a copy of a slice from a DataFrame.\n",
      "Try using .loc[row_indexer,col_indexer] = value instead\n",
      "\n",
      "See the caveats in the documentation: https://pandas.pydata.org/pandas-docs/stable/user_guide/indexing.html#returning-a-view-versus-a-copy\n",
      "  t2['Tweet_sentiment2'] = tweet_sentiment2\n",
      "<ipython-input-33-1a410f4d8bfc>:12: SettingWithCopyWarning: \n",
      "A value is trying to be set on a copy of a slice from a DataFrame.\n",
      "Try using .loc[row_indexer,col_indexer] = value instead\n",
      "\n",
      "See the caveats in the documentation: https://pandas.pydata.org/pandas-docs/stable/user_guide/indexing.html#returning-a-view-versus-a-copy\n",
      "  t2['s60'] = (t2[\"Tweet_content\"].str.lower()\n"
     ]
    }
   ],
   "source": [
    "t2 = tweet[[\"Tweet_content\", \"Tweet_sentiment\"]]\n",
    "t2[\"Tweet_content\"] = t2[\"Tweet_content\"].str.lower()\n",
    "tweet_sentiment2= tweet_content.copy()\n",
    "\n",
    "for i in np.arange(total):\n",
    "    analysis2 = TextBlob(tweet_sentiment2[i])\n",
    "    polarity += analysis2.sentiment.polarity\n",
    "    tweet_sentiment2[i] = analysis2.sentiment.polarity\n",
    "    \n",
    "\n",
    "t2['Tweet_sentiment2'] = tweet_sentiment2\n",
    "t2['s60'] = (t2[\"Tweet_content\"].str.lower()\n",
    "                            .str.contains(\"s60\", regex=False, na=False)\n",
    "                            .astype(int))\n",
    "t2 = t2.loc[t2['s60'] == 1, :]\n",
    "s60_mean = t2[\"Tweet_sentiment2\"].mean()\n"
   ]
  },
  {
   "cell_type": "code",
   "execution_count": 34,
   "metadata": {},
   "outputs": [
    {
     "name": "stderr",
     "output_type": "stream",
     "text": [
      "<ipython-input-34-5c748a9ea131>:2: SettingWithCopyWarning: \n",
      "A value is trying to be set on a copy of a slice from a DataFrame.\n",
      "Try using .loc[row_indexer,col_indexer] = value instead\n",
      "\n",
      "See the caveats in the documentation: https://pandas.pydata.org/pandas-docs/stable/user_guide/indexing.html#returning-a-view-versus-a-copy\n",
      "  t3[\"Tweet_content\"] = t3[\"Tweet_content\"].str.lower()\n",
      "<ipython-input-34-5c748a9ea131>:8: SettingWithCopyWarning: \n",
      "A value is trying to be set on a copy of a slice from a DataFrame.\n",
      "Try using .loc[row_indexer,col_indexer] = value instead\n",
      "\n",
      "See the caveats in the documentation: https://pandas.pydata.org/pandas-docs/stable/user_guide/indexing.html#returning-a-view-versus-a-copy\n",
      "  t3['Tweet_sentiment3'] = tweet_sentiment3\n",
      "<ipython-input-34-5c748a9ea131>:9: SettingWithCopyWarning: \n",
      "A value is trying to be set on a copy of a slice from a DataFrame.\n",
      "Try using .loc[row_indexer,col_indexer] = value instead\n",
      "\n",
      "See the caveats in the documentation: https://pandas.pydata.org/pandas-docs/stable/user_guide/indexing.html#returning-a-view-versus-a-copy\n",
      "  t3['t6'] = (t3[\"Tweet_content\"].str.lower()\n"
     ]
    },
    {
     "data": {
      "text/plain": [
       "0.1078461823202587"
      ]
     },
     "execution_count": 34,
     "metadata": {},
     "output_type": "execute_result"
    }
   ],
   "source": [
    "t3 = tweet[[\"Tweet_content\", \"Tweet_sentiment\"]]\n",
    "t3[\"Tweet_content\"] = t3[\"Tweet_content\"].str.lower()\n",
    "tweet_sentiment3= tweet_content.copy()\n",
    "for i in np.arange(total):\n",
    "    analysis3 = TextBlob(tweet_sentiment3[i])\n",
    "    polarity += analysis3.sentiment.polarity\n",
    "    tweet_sentiment3[i] = analysis3.sentiment.polarity\n",
    "t3['Tweet_sentiment3'] = tweet_sentiment3\n",
    "t3['t6'] = (t3[\"Tweet_content\"].str.lower()\n",
    "                            .str.contains(\"t6\", regex=False, na=False)\n",
    "                            .astype(int))\n",
    "t3 = t3.loc[t3['t6'] == 1, :]\n",
    "t6_mean = t3[\"Tweet_sentiment3\"].mean()\n",
    "t6_mean"
   ]
  },
  {
   "cell_type": "code",
   "execution_count": 35,
   "metadata": {
    "scrolled": true
   },
   "outputs": [
    {
     "name": "stderr",
     "output_type": "stream",
     "text": [
      "<ipython-input-35-e7c22466e421>:2: SettingWithCopyWarning: \n",
      "A value is trying to be set on a copy of a slice from a DataFrame.\n",
      "Try using .loc[row_indexer,col_indexer] = value instead\n",
      "\n",
      "See the caveats in the documentation: https://pandas.pydata.org/pandas-docs/stable/user_guide/indexing.html#returning-a-view-versus-a-copy\n",
      "  t4[\"Tweet_content\"] = t4[\"Tweet_content\"].str.lower()\n",
      "<ipython-input-35-e7c22466e421>:8: SettingWithCopyWarning: \n",
      "A value is trying to be set on a copy of a slice from a DataFrame.\n",
      "Try using .loc[row_indexer,col_indexer] = value instead\n",
      "\n",
      "See the caveats in the documentation: https://pandas.pydata.org/pandas-docs/stable/user_guide/indexing.html#returning-a-view-versus-a-copy\n",
      "  t4['Tweet_sentiment4'] = tweet_sentiment4\n",
      "<ipython-input-35-e7c22466e421>:9: SettingWithCopyWarning: \n",
      "A value is trying to be set on a copy of a slice from a DataFrame.\n",
      "Try using .loc[row_indexer,col_indexer] = value instead\n",
      "\n",
      "See the caveats in the documentation: https://pandas.pydata.org/pandas-docs/stable/user_guide/indexing.html#returning-a-view-versus-a-copy\n",
      "  t4['xc60'] = (t4[\"Tweet_content\"].str.lower()\n"
     ]
    },
    {
     "data": {
      "text/plain": [
       "0.18096759858782144"
      ]
     },
     "execution_count": 35,
     "metadata": {},
     "output_type": "execute_result"
    }
   ],
   "source": [
    "t4 = tweet[[\"Tweet_content\", \"Tweet_sentiment\"]]\n",
    "t4[\"Tweet_content\"] = t4[\"Tweet_content\"].str.lower()\n",
    "tweet_sentiment4= tweet_content.copy()\n",
    "for i in np.arange(total):\n",
    "    analysis4 = TextBlob(tweet_sentiment4[i])\n",
    "    polarity += analysis4.sentiment.polarity\n",
    "    tweet_sentiment4[i] = analysis4.sentiment.polarity\n",
    "t4['Tweet_sentiment4'] = tweet_sentiment4\n",
    "t4['xc60'] = (t4[\"Tweet_content\"].str.lower()\n",
    "                            .str.contains(\"xc60\", regex=False, na=False)\n",
    "                            .astype(int))\n",
    "t4 = t4.loc[t4['xc60'] == 1, :]\n",
    "xc60_mean = t4[\"Tweet_sentiment4\"].mean()\n",
    "xc60_mean"
   ]
  },
  {
   "cell_type": "code",
   "execution_count": 37,
   "metadata": {},
   "outputs": [
    {
     "name": "stderr",
     "output_type": "stream",
     "text": [
      "<ipython-input-37-f4f45165d3de>:2: SettingWithCopyWarning: \n",
      "A value is trying to be set on a copy of a slice from a DataFrame.\n",
      "Try using .loc[row_indexer,col_indexer] = value instead\n",
      "\n",
      "See the caveats in the documentation: https://pandas.pydata.org/pandas-docs/stable/user_guide/indexing.html#returning-a-view-versus-a-copy\n",
      "  t5[\"Tweet_content\"] = t5[\"Tweet_content\"].str.lower()\n",
      "<ipython-input-37-f4f45165d3de>:8: SettingWithCopyWarning: \n",
      "A value is trying to be set on a copy of a slice from a DataFrame.\n",
      "Try using .loc[row_indexer,col_indexer] = value instead\n",
      "\n",
      "See the caveats in the documentation: https://pandas.pydata.org/pandas-docs/stable/user_guide/indexing.html#returning-a-view-versus-a-copy\n",
      "  t5['Tweet_sentiment5'] = tweet_sentiment5\n",
      "<ipython-input-37-f4f45165d3de>:9: SettingWithCopyWarning: \n",
      "A value is trying to be set on a copy of a slice from a DataFrame.\n",
      "Try using .loc[row_indexer,col_indexer] = value instead\n",
      "\n",
      "See the caveats in the documentation: https://pandas.pydata.org/pandas-docs/stable/user_guide/indexing.html#returning-a-view-versus-a-copy\n",
      "  t5['xc90'] = (t5[\"Tweet_content\"].str.lower()\n"
     ]
    },
    {
     "data": {
      "text/plain": [
       "0.17436878713079326"
      ]
     },
     "execution_count": 37,
     "metadata": {},
     "output_type": "execute_result"
    }
   ],
   "source": [
    "t5 = tweet[[\"Tweet_content\", \"Tweet_sentiment\"]]\n",
    "t5[\"Tweet_content\"] = t5[\"Tweet_content\"].str.lower()\n",
    "tweet_sentiment5= tweet_content.copy()\n",
    "for i in np.arange(total):\n",
    "    analysis5 = TextBlob(tweet_sentiment5[i])\n",
    "    polarity += analysis5.sentiment.polarity\n",
    "    tweet_sentiment5[i] = analysis5.sentiment.polarity\n",
    "t5['Tweet_sentiment5'] = tweet_sentiment5\n",
    "t5['xc90'] = (t5[\"Tweet_content\"].str.lower()\n",
    "                            .str.contains(\"xc90\", regex=False, na=False)\n",
    "                            .astype(int))\n",
    "t5 = t5.loc[t5['xc90'] == 1, :]\n",
    "xc90_mean = t5[\"Tweet_sentiment5\"].mean()\n",
    "xc90_mean"
   ]
  },
  {
   "cell_type": "code",
   "execution_count": 38,
   "metadata": {
    "scrolled": true
   },
   "outputs": [
    {
     "name": "stderr",
     "output_type": "stream",
     "text": [
      "<ipython-input-38-6053d54156fa>:2: SettingWithCopyWarning: \n",
      "A value is trying to be set on a copy of a slice from a DataFrame.\n",
      "Try using .loc[row_indexer,col_indexer] = value instead\n",
      "\n",
      "See the caveats in the documentation: https://pandas.pydata.org/pandas-docs/stable/user_guide/indexing.html#returning-a-view-versus-a-copy\n",
      "  t6[\"Tweet_content\"] = t5[\"Tweet_content\"].str.lower()\n",
      "<ipython-input-38-6053d54156fa>:9: SettingWithCopyWarning: \n",
      "A value is trying to be set on a copy of a slice from a DataFrame.\n",
      "Try using .loc[row_indexer,col_indexer] = value instead\n",
      "\n",
      "See the caveats in the documentation: https://pandas.pydata.org/pandas-docs/stable/user_guide/indexing.html#returning-a-view-versus-a-copy\n",
      "  t6['Tweet_sentiment6'] = tweet_sentiment6\n",
      "<ipython-input-38-6053d54156fa>:10: SettingWithCopyWarning: \n",
      "A value is trying to be set on a copy of a slice from a DataFrame.\n",
      "Try using .loc[row_indexer,col_indexer] = value instead\n",
      "\n",
      "See the caveats in the documentation: https://pandas.pydata.org/pandas-docs/stable/user_guide/indexing.html#returning-a-view-versus-a-copy\n",
      "  t6['xc40'] = (t6[\"Tweet_content\"].str.lower()\n"
     ]
    },
    {
     "data": {
      "text/plain": [
       "0.10488275890349616"
      ]
     },
     "execution_count": 38,
     "metadata": {},
     "output_type": "execute_result"
    }
   ],
   "source": [
    "t6 = tweet[[\"Tweet_content\", \"Tweet_sentiment\"]]\n",
    "t6[\"Tweet_content\"] = t5[\"Tweet_content\"].str.lower()\n",
    "tweet_sentiment6= tweet_content.copy()\n",
    "for i in np.arange(len(t6)):\n",
    "    analysis6 = TextBlob(tweet_sentiment6[i])\n",
    "    polarity += analysis5.sentiment.polarity\n",
    "    tweet_sentiment6[i] = analysis6.sentiment.polarity\n",
    "    \n",
    "t6['Tweet_sentiment6'] = tweet_sentiment6\n",
    "t6['xc40'] = (t6[\"Tweet_content\"].str.lower()\n",
    "                            .str.contains(\"xc40\", regex=False, na=False)\n",
    "                            .astype(int))\n",
    "t6 = t6.loc[t6['xc40'] == 1, :]\n",
    "xc40_mean = t6[\"Tweet_sentiment6\"].mean()\n",
    "xc40_mean"
   ]
  },
  {
   "cell_type": "code",
   "execution_count": 39,
   "metadata": {},
   "outputs": [
    {
     "data": {
      "text/plain": [
       "['Slightly Positive',\n",
       " 'Slightly Positive',\n",
       " 'Slightly Positive',\n",
       " 'Slightly Positive',\n",
       " 'Slightly Positive']"
      ]
     },
     "execution_count": 39,
     "metadata": {},
     "output_type": "execute_result"
    }
   ],
   "source": [
    "car_model_mean = [s60_mean, t6_mean, xc40_mean, xc60_mean, xc90_mean]\n",
    "favorable = []\n",
    "for i in car_model_mean:\n",
    "    if i <= 0.5:\n",
    "        favorable += [\"Slightly Positive\"]\n",
    "favorable"
   ]
  },
  {
   "cell_type": "code",
   "execution_count": 40,
   "metadata": {},
   "outputs": [
    {
     "data": {
      "image/png": "[encoded data removed]",
      "text/plain": [
       "<Figure size 432x288 with 1 Axes>"
      ]
     },
     "metadata": {
      "needs_background": "light"
     },
     "output_type": "display_data"
    }
   ],
   "source": [
    "car_model_mean = [s60_mean, t6_mean, xc90_mean, xc60_mean, xc40_mean]\n",
    "car_model = [\"S60\", \"T6\", \"XC90\", \"XC60\", \"XC40\"]\n",
    "plt.plot(car_model, car_model_mean)\n",
    "plt.xlabel(\"Car Model\")\n",
    "plt.ylabel(\"Average Sentiment Score\")\n",
    "plt.title(\"Average Senitment Scores for Different Volvo Car Models\")\n",
    "plt.show()"
   ]
  }
 ],
 "metadata": {
  "kernelspec": {
   "display_name": "Python 3",
   "language": "python",
   "name": "python3"
  },
  "language_info": {
   "codemirror_mode": {
    "name": "ipython",
    "version": 3
   },
   "file_extension": ".py",
   "mimetype": "text/x-python",
   "name": "python",
   "nbconvert_exporter": "python",
   "pygments_lexer": "ipython3",
   "version": "3.8.3"
  }
 },
 "nbformat": 4,
 "nbformat_minor": 4
}
