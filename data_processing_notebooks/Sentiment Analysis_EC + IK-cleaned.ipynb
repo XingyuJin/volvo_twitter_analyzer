{
 "cells": [
  {
   "cell_type": "code",
   "execution_count": 1,
   "metadata": {},
   "outputs": [],
   "source": [
    "import numpy as np\n",
    "import pandas as pd\n",
    "import matplotlib.pyplot as plt\n",
    "import re\n",
    "import seaborn as sns\n",
    "from wordcloud import WordCloud, STOPWORDS"
   ]
  },
  {
   "cell_type": "code",
   "execution_count": 2,
   "metadata": {
    "scrolled": true
   },
   "outputs": [
    {
     "data": {
      "text/plain": [
       "0        2020-09-30 20:40:23\n",
       "1        2020-10-24 15:05:24\n",
       "2        2020-09-30 20:58:51\n",
       "3        2020-09-30 20:15:12\n",
       "4        2020-09-30 23:30:41\n",
       "                ...         \n",
       "14481    2020-07-01 02:55:38\n",
       "14482    2020-07-01 02:33:46\n",
       "14483    2020-07-01 03:15:58\n",
       "14484    2020-07-01 02:43:33\n",
       "14485    2020-07-01 04:13:01\n",
       "Name: Tweet_time, Length: 14486, dtype: object"
      ]
     },
     "execution_count": 2,
     "metadata": {},
     "output_type": "execute_result"
    }
   ],
   "source": [
    "# Import the dataset\n",
    "tweet = pd.read_csv(\"volvo701-1001.csv\")\n",
    "tweet=tweet.replace(' ', np.nan)\n",
    "tweet['Tweet_time']"
   ]
  },
  {
   "cell_type": "code",
   "execution_count": 3,
   "metadata": {},
   "outputs": [],
   "source": [
    "# EDA-IK"
   ]
  },
  {
   "cell_type": "markdown",
   "metadata": {},
   "source": [
    "### Find the number of followers for the top 10 most active users"
   ]
  },
  {
   "cell_type": "code",
   "execution_count": 5,
   "metadata": {},
   "outputs": [
    {
     "name": "stdout",
     "output_type": "stream",
     "text": [
      "The number of followers of Frost Bank is 21156\n",
      "The number of followers of Swedish Steel 4 Sale is 2\n",
      "The number of followers of Dr.mewithaPhd is 120\n",
      "The number of followers of Porcellato Engineering is 26267\n",
      "The number of followers of Zamzam Auto Co. is 297\n",
      "The number of followers of John Clark Volvo is 221\n",
      "The number of followers of Alex von Witzleben is 11758\n",
      "The number of followers of cheap cars for cheap is 37\n",
      "The number of followers of FinditParts.com is 1349\n",
      "The number of followers of TruckerToTrucker.com is 11726\n"
     ]
    }
   ],
   "source": [
    "user_count = tweet['Tweet_username'].value_counts()\n",
    "top_user_count = user_count.head(10)\n",
    "top_username = top_user_count.index\n",
    "top_username\n",
    "for name in top_username:\n",
    "    follower_num = tweet[tweet['Tweet_username'] == name].iloc[0, 6]\n",
    "    print(\"The number of followers of\", name, \"is\", follower_num)"
   ]
  },
  {
   "cell_type": "code",
   "execution_count": 6,
   "metadata": {},
   "outputs": [
    {
     "data": {
      "text/plain": [
       "'Minneapolis, MN'"
      ]
     },
     "execution_count": 6,
     "metadata": {},
     "output_type": "execute_result"
    }
   ],
   "source": [
    "volvo_US = tweet[tweet[\"Tweet_country_code\"] == \"US\"]\n",
    "location_list = []\n",
    "for location in volvo_US[\"Tweet_location\"]:\n",
    "    location_list += location[-2:].upper()\n",
    "\n",
    "#volvo_US[\"Tweet_location\"] = location\n",
    "#volvo_US.replace(volvo_US[\"Tweet_location\"], location)\n",
    "location"
   ]
  },
  {
   "cell_type": "code",
   "execution_count": 7,
   "metadata": {},
   "outputs": [
    {
     "name": "stdout",
     "output_type": "stream",
     "text": [
      "The frequency for S60 is 18\n",
      "The frequency for XC40 is 7\n",
      "The frequency for XC90 is 22\n",
      "The frequency for XC60 is 0\n",
      "The frequency for T6 is 8\n"
     ]
    }
   ],
   "source": [
    "car_model = [\"S60\", \"XC40\", \"s60\", \"XC90\", \"XC60\", \"xc90\", \"T6\"]\n",
    "S60_count = 0\n",
    "XC40_count = 0\n",
    "XC90_count = 0\n",
    "XC60_count = 0\n",
    "T6_count = 0\n",
    "clean_words2 = ' '.join(volvo_US['Tweet_content'].dropna().astype(str))\n",
    "splitted = clean_words2.split(\" \")\n",
    "for tweets in splitted:\n",
    "    if (tweets == (car_model[0] or car_model[2])):\n",
    "        S60_count += 1\n",
    "    if (tweets == (car_model[3] or car_model[5])):\n",
    "        XC90_count += 1\n",
    "    if (tweets == car_model[1]):\n",
    "        XC40_count += 1\n",
    "    if (tweets == car_model[4]):\n",
    "        XC60_count += 1\n",
    "    if (tweets == car_model[6]):\n",
    "        T6_count += 1\n",
    "print(\"The frequency for \" + car_model[0] + \" is \" + str(S60_count))\n",
    "print(\"The frequency for \" + car_model[1] + \" is \" + str(XC40_count))\n",
    "print(\"The frequency for \" + car_model[3] + \" is \" + str(XC90_count))\n",
    "print(\"The frequency for \" + car_model[4] + \" is \" + str(XC60_count))\n",
    "print(\"The frequency for \" + car_model[6] + \" is \" + str(T6_count))"
   ]
  },
  {
   "cell_type": "markdown",
   "metadata": {},
   "source": [
    "# More EDA-EC\n"
   ]
  },
  {
   "cell_type": "code",
   "execution_count": 10,
   "metadata": {},
   "outputs": [],
   "source": [
    "from textblob import TextBlob\n",
    "import matplotlib.pyplot as plt"
   ]
  },
  {
   "cell_type": "code",
   "execution_count": 11,
   "metadata": {},
   "outputs": [
    {
     "name": "stdout",
     "output_type": "stream",
     "text": [
      "Sentiment(polarity=1.0, subjectivity=0.3)\n"
     ]
    }
   ],
   "source": [
    "# Example\n",
    "blob1 = TextBlob(tweet['Tweet_content'][0])\n",
    "print(blob1.sentiment)"
   ]
  },
  {
   "cell_type": "code",
   "execution_count": 12,
   "metadata": {},
   "outputs": [
    {
     "data": {
      "image/png": "[encoded data removed]",
      "text/plain": [
       "<Figure size 432x288 with 1 Axes>"
      ]
     },
     "metadata": {},
     "output_type": "display_data"
    }
   ],
   "source": [
    "# Breaking down percentage of Positive, Neutral, Negative tweets within our dataset\n",
    "tweet_content = tweet['Tweet_content'].values.tolist()\n",
    "\n",
    "positive = 0\n",
    "neutral = 0\n",
    "negative = 0\n",
    "polarity = 0\n",
    "\n",
    "def percentage(part, whole):\n",
    "    return 100* float(part)/float(whole)\n",
    "\n",
    "for t in tweet_content:\n",
    "    analysis = TextBlob(t)\n",
    "    polarity += analysis.sentiment.polarity\n",
    "    \n",
    "    if (analysis.sentiment.polarity == 0):\n",
    "        neutral += 1\n",
    "    if (analysis.sentiment.polarity > 0.00):\n",
    "        positive += 1\n",
    "    if (analysis.sentiment.polarity < 0.00):\n",
    "        negative += 1\n",
    "\n",
    "total = len(tweet_content)\n",
    "        \n",
    "positive = percentage(positive, total)\n",
    "neutral = percentage(neutral, total)\n",
    "negative = percentage(negative, total)\n",
    "\n",
    "positive = format(positive, '.2f')\n",
    "neutral = format(neutral, '.2f')\n",
    "negative = format(negative, '.2f')\n",
    "\n",
    "labels = [\"Positive [\"+str(positive)+\"%]\",\"Neutral [\"+str(neutral)+\"%]\",\"Negative [\"+str(negative)+\"%]\"]\n",
    "sizes = [positive, neutral, negative]\n",
    "colors = ['yellowgreen','gold','red']\n",
    "patches, texts = plt.pie(sizes, colors = colors, startangle = 90)\n",
    "plt.legend(patches, labels, loc='best')\n",
    "plt.axis('equal')\n",
    "plt.tight_layout()\n",
    "plt.show()"
   ]
  },
  {
   "cell_type": "code",
   "execution_count": 13,
   "metadata": {},
   "outputs": [
    {
     "name": "stdout",
     "output_type": "stream",
     "text": [
      "Collecting package metadata (current_repodata.json): ...working... done\n",
      "Solving environment: ...working... done\n",
      "\n",
      "# All requested packages already installed.\n",
      "\n"
     ]
    },
    {
     "data": {
      "text/plain": [
       "0                 Positive\n",
       "1        Slightly Positive\n",
       "2        Slightly Positive\n",
       "3                 Positive\n",
       "4        Slightly Positive\n",
       "               ...        \n",
       "14481    Slightly Positive\n",
       "14482             Negative\n",
       "14483             Negative\n",
       "14484    Slightly Positive\n",
       "14485             Negative\n",
       "Name: Tweet_sentiment, Length: 14486, dtype: object"
      ]
     },
     "execution_count": 13,
     "metadata": {},
     "output_type": "execute_result"
    }
   ],
   "source": [
    "# Further breaking down each segment and adding labels\n",
    "tweet_sentiment = tweet_content.copy()\n",
    "for i in np.arange(total):\n",
    "    analysis = TextBlob(tweet_sentiment[i])\n",
    "    polarity += analysis.sentiment.polarity\n",
    "    \n",
    "    if (analysis.sentiment.polarity == 0):\n",
    "        tweet_sentiment[i] = 'Neutral'\n",
    "    if (0 < analysis.sentiment.polarity <= 0.50):\n",
    "        tweet_sentiment[i] = 'Slightly Positive'\n",
    "    if (0.50 < analysis.sentiment.polarity <= 1.0):\n",
    "        tweet_sentiment[i] = 'Positive'\n",
    "    if (-1.0 <= analysis.sentiment.polarity <= -0.50):\n",
    "        tweet_sentiment[i] = 'Slightly Negative'    \n",
    "    if (-0.50 < analysis.sentiment.polarity <= 0):\n",
    "        tweet_sentiment[i] = 'Negative'\n",
    "        \n",
    "        \n",
    "tweet['Tweet_sentiment'] = tweet_sentiment\n",
    "tweet['Tweet_sentiment']"
   ]
  },
  {
   "cell_type": "code",
   "execution_count": 14,
   "metadata": {},
   "outputs": [
    {
     "name": "stderr",
     "output_type": "stream",
     "text": [
      "<ipython-input-14-1fcbdefa7d43>:2: SettingWithCopyWarning: \n",
      "A value is trying to be set on a copy of a slice from a DataFrame.\n",
      "Try using .loc[row_indexer,col_indexer] = value instead\n",
      "\n",
      "See the caveats in the documentation: https://pandas.pydata.org/pandas-docs/stable/user_guide/indexing.html#returning-a-view-versus-a-copy\n",
      "  t2[\"Tweet_content\"] = t2[\"Tweet_content\"].str.lower()\n",
      "<ipython-input-14-1fcbdefa7d43>:8: SettingWithCopyWarning: \n",
      "A value is trying to be set on a copy of a slice from a DataFrame.\n",
      "Try using .loc[row_indexer,col_indexer] = value instead\n",
      "\n",
      "See the caveats in the documentation: https://pandas.pydata.org/pandas-docs/stable/user_guide/indexing.html#returning-a-view-versus-a-copy\n",
      "  t2['Tweet_sentiment2'] = tweet_sentiment2\n",
      "<ipython-input-14-1fcbdefa7d43>:9: SettingWithCopyWarning: \n",
      "A value is trying to be set on a copy of a slice from a DataFrame.\n",
      "Try using .loc[row_indexer,col_indexer] = value instead\n",
      "\n",
      "See the caveats in the documentation: https://pandas.pydata.org/pandas-docs/stable/user_guide/indexing.html#returning-a-view-versus-a-copy\n",
      "  t2['s60'] = (t2[\"Tweet_content\"].str.lower()\n"
     ]
    }
   ],
   "source": [
    "t2 = tweet[[\"Tweet_content\", \"Tweet_sentiment\"]]\n",
    "t2[\"Tweet_content\"] = t2[\"Tweet_content\"].str.lower()\n",
    "tweet_sentiment2= tweet_content.copy()\n",
    "for i in np.arange(total):\n",
    "    analysis2 = TextBlob(tweet_sentiment2[i])\n",
    "    polarity += analysis2.sentiment.polarity\n",
    "    tweet_sentiment2[i] = analysis2.sentiment.polarity\n",
    "t2['Tweet_sentiment2'] = tweet_sentiment2\n",
    "t2['s60'] = (t2[\"Tweet_content\"].str.lower()\n",
    "                            .str.contains(\"s60\", regex=False, na=False)\n",
    "                            .astype(int))\n",
    "t2 = t2.loc[t2['s60'] == 1, :]\n",
    "s60_mean = t2[\"Tweet_sentiment2\"].mean()\n"
   ]
  },
  {
   "cell_type": "code",
   "execution_count": 15,
   "metadata": {},
   "outputs": [
    {
     "name": "stderr",
     "output_type": "stream",
     "text": [
      "<ipython-input-15-5c748a9ea131>:2: SettingWithCopyWarning: \n",
      "A value is trying to be set on a copy of a slice from a DataFrame.\n",
      "Try using .loc[row_indexer,col_indexer] = value instead\n",
      "\n",
      "See the caveats in the documentation: https://pandas.pydata.org/pandas-docs/stable/user_guide/indexing.html#returning-a-view-versus-a-copy\n",
      "  t3[\"Tweet_content\"] = t3[\"Tweet_content\"].str.lower()\n",
      "<ipython-input-15-5c748a9ea131>:8: SettingWithCopyWarning: \n",
      "A value is trying to be set on a copy of a slice from a DataFrame.\n",
      "Try using .loc[row_indexer,col_indexer] = value instead\n",
      "\n",
      "See the caveats in the documentation: https://pandas.pydata.org/pandas-docs/stable/user_guide/indexing.html#returning-a-view-versus-a-copy\n",
      "  t3['Tweet_sentiment3'] = tweet_sentiment3\n",
      "<ipython-input-15-5c748a9ea131>:9: SettingWithCopyWarning: \n",
      "A value is trying to be set on a copy of a slice from a DataFrame.\n",
      "Try using .loc[row_indexer,col_indexer] = value instead\n",
      "\n",
      "See the caveats in the documentation: https://pandas.pydata.org/pandas-docs/stable/user_guide/indexing.html#returning-a-view-versus-a-copy\n",
      "  t3['t6'] = (t3[\"Tweet_content\"].str.lower()\n"
     ]
    },
    {
     "data": {
      "text/plain": [
       "0.1078461823202587"
      ]
     },
     "execution_count": 15,
     "metadata": {},
     "output_type": "execute_result"
    }
   ],
   "source": [
    "t3 = tweet[[\"Tweet_content\", \"Tweet_sentiment\"]]\n",
    "t3[\"Tweet_content\"] = t3[\"Tweet_content\"].str.lower()\n",
    "tweet_sentiment3= tweet_content.copy()\n",
    "for i in np.arange(total):\n",
    "    analysis3 = TextBlob(tweet_sentiment3[i])\n",
    "    polarity += analysis3.sentiment.polarity\n",
    "    tweet_sentiment3[i] = analysis3.sentiment.polarity\n",
    "t3['Tweet_sentiment3'] = tweet_sentiment3\n",
    "t3['t6'] = (t3[\"Tweet_content\"].str.lower()\n",
    "                            .str.contains(\"t6\", regex=False, na=False)\n",
    "                            .astype(int))\n",
    "t3 = t3.loc[t3['t6'] == 1, :]\n",
    "t6_mean = t3[\"Tweet_sentiment3\"].mean()\n",
    "t6_mean"
   ]
  },
  {
   "cell_type": "code",
   "execution_count": 16,
   "metadata": {
    "scrolled": true
   },
   "outputs": [
    {
     "name": "stderr",
     "output_type": "stream",
     "text": [
      "<ipython-input-16-e7c22466e421>:2: SettingWithCopyWarning: \n",
      "A value is trying to be set on a copy of a slice from a DataFrame.\n",
      "Try using .loc[row_indexer,col_indexer] = value instead\n",
      "\n",
      "See the caveats in the documentation: https://pandas.pydata.org/pandas-docs/stable/user_guide/indexing.html#returning-a-view-versus-a-copy\n",
      "  t4[\"Tweet_content\"] = t4[\"Tweet_content\"].str.lower()\n",
      "<ipython-input-16-e7c22466e421>:8: SettingWithCopyWarning: \n",
      "A value is trying to be set on a copy of a slice from a DataFrame.\n",
      "Try using .loc[row_indexer,col_indexer] = value instead\n",
      "\n",
      "See the caveats in the documentation: https://pandas.pydata.org/pandas-docs/stable/user_guide/indexing.html#returning-a-view-versus-a-copy\n",
      "  t4['Tweet_sentiment4'] = tweet_sentiment4\n",
      "<ipython-input-16-e7c22466e421>:9: SettingWithCopyWarning: \n",
      "A value is trying to be set on a copy of a slice from a DataFrame.\n",
      "Try using .loc[row_indexer,col_indexer] = value instead\n",
      "\n",
      "See the caveats in the documentation: https://pandas.pydata.org/pandas-docs/stable/user_guide/indexing.html#returning-a-view-versus-a-copy\n",
      "  t4['xc60'] = (t4[\"Tweet_content\"].str.lower()\n"
     ]
    },
    {
     "data": {
      "text/plain": [
       "0.18096759858782144"
      ]
     },
     "execution_count": 16,
     "metadata": {},
     "output_type": "execute_result"
    }
   ],
   "source": [
    "t4 = tweet[[\"Tweet_content\", \"Tweet_sentiment\"]]\n",
    "t4[\"Tweet_content\"] = t4[\"Tweet_content\"].str.lower()\n",
    "tweet_sentiment4= tweet_content.copy()\n",
    "for i in np.arange(total):\n",
    "    analysis4 = TextBlob(tweet_sentiment4[i])\n",
    "    polarity += analysis4.sentiment.polarity\n",
    "    tweet_sentiment4[i] = analysis4.sentiment.polarity\n",
    "t4['Tweet_sentiment4'] = tweet_sentiment4\n",
    "t4['xc60'] = (t4[\"Tweet_content\"].str.lower()\n",
    "                            .str.contains(\"xc60\", regex=False, na=False)\n",
    "                            .astype(int))\n",
    "t4 = t4.loc[t4['xc60'] == 1, :]\n",
    "xc60_mean = t4[\"Tweet_sentiment4\"].mean()\n",
    "xc60_mean"
   ]
  },
  {
   "cell_type": "code",
   "execution_count": 17,
   "metadata": {},
   "outputs": [
    {
     "name": "stderr",
     "output_type": "stream",
     "text": [
      "<ipython-input-17-f4f45165d3de>:2: SettingWithCopyWarning: \n",
      "A value is trying to be set on a copy of a slice from a DataFrame.\n",
      "Try using .loc[row_indexer,col_indexer] = value instead\n",
      "\n",
      "See the caveats in the documentation: https://pandas.pydata.org/pandas-docs/stable/user_guide/indexing.html#returning-a-view-versus-a-copy\n",
      "  t5[\"Tweet_content\"] = t5[\"Tweet_content\"].str.lower()\n",
      "<ipython-input-17-f4f45165d3de>:8: SettingWithCopyWarning: \n",
      "A value is trying to be set on a copy of a slice from a DataFrame.\n",
      "Try using .loc[row_indexer,col_indexer] = value instead\n",
      "\n",
      "See the caveats in the documentation: https://pandas.pydata.org/pandas-docs/stable/user_guide/indexing.html#returning-a-view-versus-a-copy\n",
      "  t5['Tweet_sentiment5'] = tweet_sentiment5\n",
      "<ipython-input-17-f4f45165d3de>:9: SettingWithCopyWarning: \n",
      "A value is trying to be set on a copy of a slice from a DataFrame.\n",
      "Try using .loc[row_indexer,col_indexer] = value instead\n",
      "\n",
      "See the caveats in the documentation: https://pandas.pydata.org/pandas-docs/stable/user_guide/indexing.html#returning-a-view-versus-a-copy\n",
      "  t5['xc90'] = (t5[\"Tweet_content\"].str.lower()\n"
     ]
    },
    {
     "data": {
      "text/plain": [
       "0.17436878713079326"
      ]
     },
     "execution_count": 17,
     "metadata": {},
     "output_type": "execute_result"
    }
   ],
   "source": [
    "t5 = tweet[[\"Tweet_content\", \"Tweet_sentiment\"]]\n",
    "t5[\"Tweet_content\"] = t5[\"Tweet_content\"].str.lower()\n",
    "tweet_sentiment5= tweet_content.copy()\n",
    "for i in np.arange(total):\n",
    "    analysis5 = TextBlob(tweet_sentiment5[i])\n",
    "    polarity += analysis5.sentiment.polarity\n",
    "    tweet_sentiment5[i] = analysis5.sentiment.polarity\n",
    "t5['Tweet_sentiment5'] = tweet_sentiment5\n",
    "t5['xc90'] = (t5[\"Tweet_content\"].str.lower()\n",
    "                            .str.contains(\"xc90\", regex=False, na=False)\n",
    "                            .astype(int))\n",
    "t5 = t5.loc[t5['xc90'] == 1, :]\n",
    "xc90_mean = t5[\"Tweet_sentiment5\"].mean()\n",
    "xc90_mean"
   ]
  },
  {
   "cell_type": "code",
   "execution_count": 18,
   "metadata": {},
   "outputs": [
    {
     "name": "stderr",
     "output_type": "stream",
     "text": [
      "<ipython-input-18-8d87cfe0c000>:2: SettingWithCopyWarning: \n",
      "A value is trying to be set on a copy of a slice from a DataFrame.\n",
      "Try using .loc[row_indexer,col_indexer] = value instead\n",
      "\n",
      "See the caveats in the documentation: https://pandas.pydata.org/pandas-docs/stable/user_guide/indexing.html#returning-a-view-versus-a-copy\n",
      "  t6[\"Tweet_content\"] = t5[\"Tweet_content\"].str.lower()\n",
      "<ipython-input-18-8d87cfe0c000>:8: SettingWithCopyWarning: \n",
      "A value is trying to be set on a copy of a slice from a DataFrame.\n",
      "Try using .loc[row_indexer,col_indexer] = value instead\n",
      "\n",
      "See the caveats in the documentation: https://pandas.pydata.org/pandas-docs/stable/user_guide/indexing.html#returning-a-view-versus-a-copy\n",
      "  t6['Tweet_sentiment6'] = tweet_sentiment6\n",
      "<ipython-input-18-8d87cfe0c000>:9: SettingWithCopyWarning: \n",
      "A value is trying to be set on a copy of a slice from a DataFrame.\n",
      "Try using .loc[row_indexer,col_indexer] = value instead\n",
      "\n",
      "See the caveats in the documentation: https://pandas.pydata.org/pandas-docs/stable/user_guide/indexing.html#returning-a-view-versus-a-copy\n",
      "  t6['xc40'] = (t6[\"Tweet_content\"].str.lower()\n"
     ]
    },
    {
     "data": {
      "text/plain": [
       "0.10488275890349616"
      ]
     },
     "execution_count": 18,
     "metadata": {},
     "output_type": "execute_result"
    }
   ],
   "source": [
    "t6 = tweet[[\"Tweet_content\", \"Tweet_sentiment\"]]\n",
    "t6[\"Tweet_content\"] = t5[\"Tweet_content\"].str.lower()\n",
    "tweet_sentiment6= tweet_content.copy()\n",
    "for i in np.arange(total):\n",
    "    analysis6 = TextBlob(tweet_sentiment6[i])\n",
    "    polarity += analysis5.sentiment.polarity\n",
    "    tweet_sentiment6[i] = analysis6.sentiment.polarity\n",
    "t6['Tweet_sentiment6'] = tweet_sentiment6\n",
    "t6['xc40'] = (t6[\"Tweet_content\"].str.lower()\n",
    "                            .str.contains(\"xc40\", regex=False, na=False)\n",
    "                            .astype(int))\n",
    "t6 = t6.loc[t6['xc40'] == 1, :]\n",
    "xc40_mean = t6[\"Tweet_sentiment6\"].mean()\n",
    "xc40_mean"
   ]
  },
  {
   "cell_type": "code",
   "execution_count": 19,
   "metadata": {},
   "outputs": [
    {
     "data": {
      "text/plain": [
       "['Slightly Positive',\n",
       " 'Slightly Positive',\n",
       " 'Slightly Positive',\n",
       " 'Slightly Positive',\n",
       " 'Slightly Positive']"
      ]
     },
     "execution_count": 19,
     "metadata": {},
     "output_type": "execute_result"
    }
   ],
   "source": [
    "car_model_mean = [s60_mean, t6_mean, xc40_mean, xc60_mean, xc90_mean]\n",
    "favorable = []\n",
    "for i in car_model_mean:\n",
    "    if i <= 0.5:\n",
    "        favorable += [\"Slightly Positive\"]\n",
    "favorable"
   ]
  },
  {
   "cell_type": "code",
   "execution_count": 20,
   "metadata": {},
   "outputs": [
    {
     "data": {
      "image/png": "[encoded data removed]",
      "text/plain": [
       "<Figure size 432x288 with 1 Axes>"
      ]
     },
     "metadata": {
      "needs_background": "light"
     },
     "output_type": "display_data"
    }
   ],
   "source": [
    "car_model_mean = [s60_mean, t6_mean, xc90_mean, xc60_mean, xc40_mean]\n",
    "car_model = [\"S60\", \"T6\", \"XC90\", \"XC60\", \"XC40\"]\n",
    "plt.plot(car_model, car_model_mean)\n",
    "plt.xlabel(\"Car Model\")\n",
    "plt.ylabel(\"Average Sentiment Score\")\n",
    "plt.title(\"Average Senitment Scores for Different Volvo Car Models\")\n",
    "plt.show()"
   ]
  }
 ],
 "metadata": {
  "kernelspec": {
   "display_name": "Python 3",
   "language": "python",
   "name": "python3"
  },
  "language_info": {
   "codemirror_mode": {
    "name": "ipython",
    "version": 3
   },
   "file_extension": ".py",
   "mimetype": "text/x-python",
   "name": "python",
   "nbconvert_exporter": "python",
   "pygments_lexer": "ipython3",
   "version": "3.8.3"
  }
 },
 "nbformat": 4,
 "nbformat_minor": 4
}
