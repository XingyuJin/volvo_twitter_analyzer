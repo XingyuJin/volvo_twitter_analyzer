{
 "cells": [
  {
   "cell_type": "code",
   "execution_count": 1,
   "metadata": {},
   "outputs": [],
   "source": [
    "import pandas as pd\n",
    "import numpy as np\n",
    "\n",
    "df=pd.read_csv('VolvoCarUSA.csv')\n",
    "df=df[['Tweet_id','Tweet_user_followers','Tweet_user_following','Tweet_time','Tweet_content','Tweet_like_count','Tweet_retweet_count','Tweet_reply_count']]\n"
   ]
  },
  {
   "cell_type": "code",
   "execution_count": 2,
   "metadata": {},
   "outputs": [],
   "source": [
    "df.to_csv(\"VolvoCarUSA_account.csv\")"
   ]
  },
  {
   "cell_type": "code",
   "execution_count": 3,
   "metadata": {},
   "outputs": [
    {
     "name": "stdout",
     "output_type": "stream",
     "text": [
      "86868\n",
      "['@rick_schmitz', 'hi', 'rick', ',', 'we', 'are', 'concerned', 'to', 'learn', 'about', 'this', 'experience', '.', 'we', 'would', 'recommend', 'contacting', 'our', 'team', 'to']\n"
     ]
    }
   ],
   "source": [
    "from nltk.tokenize import TweetTokenizer\n",
    "tknzr = TweetTokenizer()\n",
    "\n",
    "def tokenizer_tweets(df):\n",
    "    \n",
    "    text = ''\n",
    "    for t in df['Tweet_content']:\n",
    "        text += t\n",
    "    tokens = [i.lower() for i in tknzr.tokenize(text)]\n",
    "    \n",
    "    return tokens\n",
    "\n",
    "tokens = tokenizer_tweets(df)\n",
    "print(len(tokens))\n",
    "print(tokens[:20])"
   ]
  },
  {
   "cell_type": "code",
   "execution_count": 4,
   "metadata": {},
   "outputs": [
    {
     "data": {
      "text/plain": [
       "[('@volvocars', 37),\n",
       " ('@volvocarsglobal', 19),\n",
       " ('@wishful_wink', 17),\n",
       " ('@petfinder_fnd', 13),\n",
       " ('@chrischiera', 13)]"
      ]
     },
     "metadata": {},
     "output_type": "display_data"
    },
    {
     "data": {
      "text/plain": [
       "[('#volvoxc60', 74),\n",
       " ('#volvoxc90', 64),\n",
       " ('#xc40', 52),\n",
       " ('#news60', 46),\n",
       " ('#futurevolvocontest', 44)]"
      ]
     },
     "metadata": {},
     "output_type": "display_data"
    }
   ],
   "source": [
    "from nltk import FreqDist\n",
    "\n",
    "# top 5 mentions\n",
    "mentions = [t for t in tokens if t.startswith('@')]\n",
    "mentions_fd = FreqDist(mentions).most_common(5)\n",
    "\n",
    "# top 5 hashtags\n",
    "hashtags = [t for t in tokens if (t.startswith('#') and len(t) != 1)]\n",
    "hashtags_fd = FreqDist(hashtags).most_common(5)\n",
    "\n",
    "display(mentions_fd,hashtags_fd)"
   ]
  },
  {
   "cell_type": "code",
   "execution_count": 5,
   "metadata": {},
   "outputs": [
    {
     "name": "stdout",
     "output_type": "stream",
     "text": [
      "The percentage of plain text tweet is 79% of all the tweets\n"
     ]
    }
   ],
   "source": [
    "plain_text=df[~df['Tweet_content'].str.contains('#')&df['Tweet_content'].str.contains('@')]\n",
    "\n",
    "print(f\"The percentage of plain text tweet is {round(len(plain_text)/len(df)*100)}% of all the tweets\")"
   ]
  },
  {
   "cell_type": "code",
   "execution_count": 6,
   "metadata": {},
   "outputs": [
    {
     "name": "stdout",
     "output_type": "stream",
     "text": [
      "The tweet with most likes is: \n",
      "A car so different, we had to make it available in a different way. This is the new #XC40 with Care by Volvo.\tLearn more at\n",
      "Number of likes: 1544\n",
      "\n",
      "The tweet with most retweets is: \n",
      "A car so different, we had to make it available in a different way. This is the new #XC40 with Care by Volvo.\tLearn more at\n",
      "Number of retweets: 196\n",
      "\n",
      "The tweet with more replies is: \n",
      "Where innovative safety comes standard. Designed with you in mind. The All-New #VolvoXC60\t\tLearn more at\n",
      "Number of reply: 107\n"
     ]
    }
   ],
   "source": [
    "fav_max = np.max(df['Tweet_like_count'])\n",
    "rt_max  = np.max(df['Tweet_retweet_count'])\n",
    "rep_max = np.max(df['Tweet_reply_count'])\n",
    "\n",
    "fav = df[df.Tweet_like_count == fav_max].index[0]\n",
    "rt  = df[df.Tweet_retweet_count == rt_max].index[0]\n",
    "rep = df[df.Tweet_reply_count == rep_max].index[0]\n",
    "\n",
    "# Max FAVs:\n",
    "print(\"The tweet with most likes is: \\n{}\".format(df['Tweet_content'][fav]))\n",
    "print(\"Number of likes: {}\".format(fav_max))\n",
    "print()\n",
    "# Max RTs:\n",
    "print(\"The tweet with most retweets is: \\n{}\".format(df['Tweet_content'][rt]))\n",
    "print(\"Number of retweets: {}\".format(rt_max))\n",
    "print()\n",
    "# Max REPs:\n",
    "print(\"The tweet with more replies is: \\n{}\".format(df['Tweet_content'][rep]))\n",
    "print(\"Number of reply: {}\".format(rep_max))"
   ]
  },
  {
   "cell_type": "code",
   "execution_count": 7,
   "metadata": {},
   "outputs": [
    {
     "data": {
      "text/plain": [
       "0       238785\n",
       "1       238785\n",
       "2       238785\n",
       "3       238785\n",
       "4       238785\n",
       "         ...  \n",
       "3996    238785\n",
       "3997    238785\n",
       "3998    238785\n",
       "3999    238785\n",
       "4000    238785\n",
       "Name: Tweet_user_followers, Length: 4001, dtype: int64"
      ]
     },
     "execution_count": 7,
     "metadata": {},
     "output_type": "execute_result"
    }
   ],
   "source": [
    "df['Tweet_user_followers']"
   ]
  },
  {
   "cell_type": "code",
   "execution_count": null,
   "metadata": {},
   "outputs": [],
   "source": []
  }
 ],
 "metadata": {
  "kernelspec": {
   "display_name": "Python 3",
   "language": "python",
   "name": "python3"
  },
  "language_info": {
   "codemirror_mode": {
    "name": "ipython",
    "version": 3
   },
   "file_extension": ".py",
   "mimetype": "text/x-python",
   "name": "python",
   "nbconvert_exporter": "python",
   "pygments_lexer": "ipython3",
   "version": "3.8.3"
  }
 },
 "nbformat": 4,
 "nbformat_minor": 4
}
